{
 "cells": [
  {
   "cell_type": "markdown",
   "metadata": {},
   "source": [
    "# Play Store Apps Analysis"
   ]
  },
  {
   "cell_type": "markdown",
   "metadata": {},
   "source": [
    "### Description of App Dataset columns\n",
    "##### App : The name of the app\n",
    "##### Category : The category of the app\n",
    "##### Rating : The rating of the app in the Play Store\n",
    "##### Reviews : The number of reviews of the app\n",
    "##### Size : The size of the app\n",
    "##### Install : The number of installs of the app\n",
    "##### Type : The type of the app (Free/Paid)\n",
    "##### Price : The price of the app (0 if it is Free)\n",
    "##### Content Rating :The appropiate target audience of the app\n",
    "##### Genres: The genre of the app\n",
    "##### Last Updated : The date when the app was last updated\n",
    "##### Current Ver : The current version of the app\n",
    "##### Android Ver : The minimum Android version required to run the app"
   ]
  },
  {
   "cell_type": "markdown",
   "metadata": {},
   "source": [
    "## Import libraries"
   ]
  },
  {
   "cell_type": "code",
   "execution_count": 1,
   "metadata": {
    "execution": {
     "iopub.execute_input": "2022-06-20T17:52:04.800007Z",
     "iopub.status.busy": "2022-06-20T17:52:04.799574Z",
     "iopub.status.idle": "2022-06-20T17:52:05.391594Z",
     "shell.execute_reply": "2022-06-20T17:52:05.39085Z",
     "shell.execute_reply.started": "2022-06-20T17:52:04.799928Z"
    }
   },
   "outputs": [],
   "source": [
    "import numpy as np\n",
    "import pandas as pd\n",
    "import matplotlib.pyplot as plt\n",
    "import seaborn as sns\n",
    "import warnings\n",
    "warnings.filterwarnings('ignore')"
   ]
  },
  {
   "cell_type": "markdown",
   "metadata": {},
   "source": [
    "## Read dataset"
   ]
  },
  {
   "cell_type": "code",
   "execution_count": 2,
   "metadata": {
    "execution": {
     "iopub.execute_input": "2022-06-20T17:52:31.658424Z",
     "iopub.status.busy": "2022-06-20T17:52:31.657639Z",
     "iopub.status.idle": "2022-06-20T17:52:31.757463Z",
     "shell.execute_reply": "2022-06-20T17:52:31.756582Z",
     "shell.execute_reply.started": "2022-06-20T17:52:31.658393Z"
    }
   },
   "outputs": [
    {
     "data": {
      "text/html": [
       "<div>\n",
       "<style scoped>\n",
       "    .dataframe tbody tr th:only-of-type {\n",
       "        vertical-align: middle;\n",
       "    }\n",
       "\n",
       "    .dataframe tbody tr th {\n",
       "        vertical-align: top;\n",
       "    }\n",
       "\n",
       "    .dataframe thead th {\n",
       "        text-align: right;\n",
       "    }\n",
       "</style>\n",
       "<table border=\"1\" class=\"dataframe\">\n",
       "  <thead>\n",
       "    <tr style=\"text-align: right;\">\n",
       "      <th></th>\n",
       "      <th>App</th>\n",
       "      <th>Category</th>\n",
       "      <th>Rating</th>\n",
       "      <th>Reviews</th>\n",
       "      <th>Size</th>\n",
       "      <th>Installs</th>\n",
       "      <th>Type</th>\n",
       "      <th>Price</th>\n",
       "      <th>Content Rating</th>\n",
       "      <th>Genres</th>\n",
       "      <th>Last Updated</th>\n",
       "      <th>Current Ver</th>\n",
       "      <th>Android Ver</th>\n",
       "    </tr>\n",
       "  </thead>\n",
       "  <tbody>\n",
       "    <tr>\n",
       "      <th>0</th>\n",
       "      <td>Photo Editor &amp; Candy Camera &amp; Grid &amp; ScrapBook</td>\n",
       "      <td>ART_AND_DESIGN</td>\n",
       "      <td>4.1</td>\n",
       "      <td>159</td>\n",
       "      <td>19M</td>\n",
       "      <td>10,000+</td>\n",
       "      <td>Free</td>\n",
       "      <td>0</td>\n",
       "      <td>Everyone</td>\n",
       "      <td>Art &amp; Design</td>\n",
       "      <td>January 7, 2018</td>\n",
       "      <td>1.0.0</td>\n",
       "      <td>4.0.3 and up</td>\n",
       "    </tr>\n",
       "    <tr>\n",
       "      <th>1</th>\n",
       "      <td>Coloring book moana</td>\n",
       "      <td>ART_AND_DESIGN</td>\n",
       "      <td>3.9</td>\n",
       "      <td>967</td>\n",
       "      <td>14M</td>\n",
       "      <td>500,000+</td>\n",
       "      <td>Free</td>\n",
       "      <td>0</td>\n",
       "      <td>Everyone</td>\n",
       "      <td>Art &amp; Design;Pretend Play</td>\n",
       "      <td>January 15, 2018</td>\n",
       "      <td>2.0.0</td>\n",
       "      <td>4.0.3 and up</td>\n",
       "    </tr>\n",
       "    <tr>\n",
       "      <th>2</th>\n",
       "      <td>U Launcher Lite – FREE Live Cool Themes, Hide ...</td>\n",
       "      <td>ART_AND_DESIGN</td>\n",
       "      <td>4.7</td>\n",
       "      <td>87510</td>\n",
       "      <td>8.7M</td>\n",
       "      <td>5,000,000+</td>\n",
       "      <td>Free</td>\n",
       "      <td>0</td>\n",
       "      <td>Everyone</td>\n",
       "      <td>Art &amp; Design</td>\n",
       "      <td>August 1, 2018</td>\n",
       "      <td>1.2.4</td>\n",
       "      <td>4.0.3 and up</td>\n",
       "    </tr>\n",
       "    <tr>\n",
       "      <th>3</th>\n",
       "      <td>Sketch - Draw &amp; Paint</td>\n",
       "      <td>ART_AND_DESIGN</td>\n",
       "      <td>4.5</td>\n",
       "      <td>215644</td>\n",
       "      <td>25M</td>\n",
       "      <td>50,000,000+</td>\n",
       "      <td>Free</td>\n",
       "      <td>0</td>\n",
       "      <td>Teen</td>\n",
       "      <td>Art &amp; Design</td>\n",
       "      <td>June 8, 2018</td>\n",
       "      <td>Varies with device</td>\n",
       "      <td>4.2 and up</td>\n",
       "    </tr>\n",
       "    <tr>\n",
       "      <th>4</th>\n",
       "      <td>Pixel Draw - Number Art Coloring Book</td>\n",
       "      <td>ART_AND_DESIGN</td>\n",
       "      <td>4.3</td>\n",
       "      <td>967</td>\n",
       "      <td>2.8M</td>\n",
       "      <td>100,000+</td>\n",
       "      <td>Free</td>\n",
       "      <td>0</td>\n",
       "      <td>Everyone</td>\n",
       "      <td>Art &amp; Design;Creativity</td>\n",
       "      <td>June 20, 2018</td>\n",
       "      <td>1.1</td>\n",
       "      <td>4.4 and up</td>\n",
       "    </tr>\n",
       "  </tbody>\n",
       "</table>\n",
       "</div>"
      ],
      "text/plain": [
       "                                                 App        Category  Rating  \\\n",
       "0     Photo Editor & Candy Camera & Grid & ScrapBook  ART_AND_DESIGN     4.1   \n",
       "1                                Coloring book moana  ART_AND_DESIGN     3.9   \n",
       "2  U Launcher Lite – FREE Live Cool Themes, Hide ...  ART_AND_DESIGN     4.7   \n",
       "3                              Sketch - Draw & Paint  ART_AND_DESIGN     4.5   \n",
       "4              Pixel Draw - Number Art Coloring Book  ART_AND_DESIGN     4.3   \n",
       "\n",
       "  Reviews  Size     Installs  Type Price Content Rating  \\\n",
       "0     159   19M      10,000+  Free     0       Everyone   \n",
       "1     967   14M     500,000+  Free     0       Everyone   \n",
       "2   87510  8.7M   5,000,000+  Free     0       Everyone   \n",
       "3  215644   25M  50,000,000+  Free     0           Teen   \n",
       "4     967  2.8M     100,000+  Free     0       Everyone   \n",
       "\n",
       "                      Genres      Last Updated         Current Ver  \\\n",
       "0               Art & Design   January 7, 2018               1.0.0   \n",
       "1  Art & Design;Pretend Play  January 15, 2018               2.0.0   \n",
       "2               Art & Design    August 1, 2018               1.2.4   \n",
       "3               Art & Design      June 8, 2018  Varies with device   \n",
       "4    Art & Design;Creativity     June 20, 2018                 1.1   \n",
       "\n",
       "    Android Ver  \n",
       "0  4.0.3 and up  \n",
       "1  4.0.3 and up  \n",
       "2  4.0.3 and up  \n",
       "3    4.2 and up  \n",
       "4    4.4 and up  "
      ]
     },
     "execution_count": 2,
     "metadata": {},
     "output_type": "execute_result"
    }
   ],
   "source": [
    "df = pd.read_csv(r\"C:\\Users\\avani\\Downloads\\archive (13)\\googleplaystore.csv\")\n",
    "df.head()"
   ]
  },
  {
   "cell_type": "code",
   "execution_count": 3,
   "metadata": {},
   "outputs": [
    {
     "data": {
      "text/plain": [
       "(10841, 13)"
      ]
     },
     "execution_count": 3,
     "metadata": {},
     "output_type": "execute_result"
    }
   ],
   "source": [
    "df.shape"
   ]
  },
  {
   "cell_type": "code",
   "execution_count": 4,
   "metadata": {},
   "outputs": [
    {
     "data": {
      "text/plain": [
       "Index(['App', 'Category', 'Rating', 'Reviews', 'Size', 'Installs', 'Type',\n",
       "       'Price', 'Content Rating', 'Genres', 'Last Updated', 'Current Ver',\n",
       "       'Android Ver'],\n",
       "      dtype='object')"
      ]
     },
     "execution_count": 4,
     "metadata": {},
     "output_type": "execute_result"
    }
   ],
   "source": [
    "df.columns"
   ]
  },
  {
   "cell_type": "markdown",
   "metadata": {},
   "source": [
    "## # Data Preprocesing"
   ]
  },
  {
   "cell_type": "code",
   "execution_count": 5,
   "metadata": {
    "scrolled": true
   },
   "outputs": [
    {
     "data": {
      "text/plain": [
       "App                  0\n",
       "Category             0\n",
       "Rating            1474\n",
       "Reviews              0\n",
       "Size                 0\n",
       "Installs             0\n",
       "Type                 1\n",
       "Price                0\n",
       "Content Rating       1\n",
       "Genres               0\n",
       "Last Updated         0\n",
       "Current Ver          8\n",
       "Android Ver          3\n",
       "dtype: int64"
      ]
     },
     "execution_count": 5,
     "metadata": {},
     "output_type": "execute_result"
    }
   ],
   "source": [
    "# Check Null values\n",
    "df.isnull().sum()"
   ]
  },
  {
   "cell_type": "code",
   "execution_count": 6,
   "metadata": {},
   "outputs": [],
   "source": [
    "df['Rating'].fillna(df['Rating'].mean(), inplace=True)"
   ]
  },
  {
   "cell_type": "code",
   "execution_count": 7,
   "metadata": {},
   "outputs": [],
   "source": [
    "# create a boolean mask for missing values in the \"Current Ver\" column\n",
    "mask = df['Current Ver'].isnull()\n",
    "\n",
    "# select rows with missing values in the \"Current Ver\" column and drop them\n",
    "df.drop(df[mask].index, inplace=True)"
   ]
  },
  {
   "cell_type": "code",
   "execution_count": 8,
   "metadata": {},
   "outputs": [],
   "source": [
    "mask1= df['Android Ver'].isnull()\n",
    "df.drop(df[mask1].index, inplace=True)"
   ]
  },
  {
   "cell_type": "code",
   "execution_count": 9,
   "metadata": {},
   "outputs": [],
   "source": [
    "mask2 = df['Type'].isnull()\n",
    "df.drop(df[mask2].index, inplace=True)"
   ]
  },
  {
   "cell_type": "code",
   "execution_count": 10,
   "metadata": {},
   "outputs": [
    {
     "data": {
      "text/plain": [
       "App               0\n",
       "Category          0\n",
       "Rating            0\n",
       "Reviews           0\n",
       "Size              0\n",
       "Installs          0\n",
       "Type              0\n",
       "Price             0\n",
       "Content Rating    0\n",
       "Genres            0\n",
       "Last Updated      0\n",
       "Current Ver       0\n",
       "Android Ver       0\n",
       "dtype: int64"
      ]
     },
     "execution_count": 10,
     "metadata": {},
     "output_type": "execute_result"
    }
   ],
   "source": [
    "# Check Null values\n",
    "df.isnull().sum()"
   ]
  },
  {
   "cell_type": "code",
   "execution_count": 11,
   "metadata": {},
   "outputs": [
    {
     "data": {
      "text/plain": [
       "(10829, 13)"
      ]
     },
     "execution_count": 11,
     "metadata": {},
     "output_type": "execute_result"
    }
   ],
   "source": [
    "df.shape"
   ]
  },
  {
   "cell_type": "markdown",
   "metadata": {},
   "source": [
    "### 2) Check Data Types"
   ]
  },
  {
   "cell_type": "code",
   "execution_count": 12,
   "metadata": {},
   "outputs": [
    {
     "data": {
      "text/plain": [
       "App                object\n",
       "Category           object\n",
       "Rating            float64\n",
       "Reviews            object\n",
       "Size               object\n",
       "Installs           object\n",
       "Type               object\n",
       "Price              object\n",
       "Content Rating     object\n",
       "Genres             object\n",
       "Last Updated       object\n",
       "Current Ver        object\n",
       "Android Ver        object\n",
       "dtype: object"
      ]
     },
     "execution_count": 12,
     "metadata": {},
     "output_type": "execute_result"
    }
   ],
   "source": [
    "df.dtypes"
   ]
  },
  {
   "cell_type": "code",
   "execution_count": 13,
   "metadata": {},
   "outputs": [],
   "source": [
    "x=df.duplicated().sum()                            # check duplicates"
   ]
  },
  {
   "cell_type": "markdown",
   "metadata": {},
   "source": [
    "## Feature Engineering"
   ]
  },
  {
   "cell_type": "code",
   "execution_count": 14,
   "metadata": {
    "execution": {
     "iopub.execute_input": "2022-06-20T17:52:49.026465Z",
     "iopub.status.busy": "2022-06-20T17:52:49.025592Z",
     "iopub.status.idle": "2022-06-20T17:52:49.06314Z",
     "shell.execute_reply": "2022-06-20T17:52:49.062206Z",
     "shell.execute_reply.started": "2022-06-20T17:52:49.026421Z"
    }
   },
   "outputs": [
    {
     "name": "stdout",
     "output_type": "stream",
     "text": [
      "<class 'pandas.core.frame.DataFrame'>\n",
      "Int64Index: 10829 entries, 0 to 10840\n",
      "Data columns (total 13 columns):\n",
      " #   Column          Non-Null Count  Dtype  \n",
      "---  ------          --------------  -----  \n",
      " 0   App             10829 non-null  object \n",
      " 1   Category        10829 non-null  object \n",
      " 2   Rating          10829 non-null  float64\n",
      " 3   Reviews         10829 non-null  object \n",
      " 4   Size            10829 non-null  object \n",
      " 5   Installs        10829 non-null  object \n",
      " 6   Type            10829 non-null  object \n",
      " 7   Price           10829 non-null  object \n",
      " 8   Content Rating  10829 non-null  object \n",
      " 9   Genres          10829 non-null  object \n",
      " 10  Last Updated    10829 non-null  object \n",
      " 11  Current Ver     10829 non-null  object \n",
      " 12  Android Ver     10829 non-null  object \n",
      "dtypes: float64(1), object(12)\n",
      "memory usage: 1.2+ MB\n"
     ]
    }
   ],
   "source": [
    "df.info()"
   ]
  },
  {
   "cell_type": "code",
   "execution_count": 15,
   "metadata": {},
   "outputs": [
    {
     "data": {
      "text/plain": [
       "array(['ART_AND_DESIGN', 'AUTO_AND_VEHICLES', 'BEAUTY',\n",
       "       'BOOKS_AND_REFERENCE', 'BUSINESS', 'COMICS', 'COMMUNICATION',\n",
       "       'DATING', 'EDUCATION', 'ENTERTAINMENT', 'EVENTS', 'FINANCE',\n",
       "       'FOOD_AND_DRINK', 'HEALTH_AND_FITNESS', 'HOUSE_AND_HOME',\n",
       "       'LIBRARIES_AND_DEMO', 'LIFESTYLE', 'GAME', 'FAMILY', 'MEDICAL',\n",
       "       'SOCIAL', 'SHOPPING', 'PHOTOGRAPHY', 'SPORTS', 'TRAVEL_AND_LOCAL',\n",
       "       'TOOLS', 'PERSONALIZATION', 'PRODUCTIVITY', 'PARENTING', 'WEATHER',\n",
       "       'VIDEO_PLAYERS', 'NEWS_AND_MAGAZINES', 'MAPS_AND_NAVIGATION'],\n",
       "      dtype=object)"
      ]
     },
     "execution_count": 15,
     "metadata": {},
     "output_type": "execute_result"
    }
   ],
   "source": [
    "df['Category'].unique()"
   ]
  },
  {
   "cell_type": "code",
   "execution_count": 16,
   "metadata": {},
   "outputs": [
    {
     "data": {
      "text/plain": [
       "array(['Free', 'Paid'], dtype=object)"
      ]
     },
     "execution_count": 16,
     "metadata": {},
     "output_type": "execute_result"
    }
   ],
   "source": [
    "df['Type'].unique()"
   ]
  },
  {
   "cell_type": "code",
   "execution_count": 17,
   "metadata": {},
   "outputs": [
    {
     "data": {
      "text/plain": [
       "119"
      ]
     },
     "execution_count": 17,
     "metadata": {},
     "output_type": "execute_result"
    }
   ],
   "source": [
    "df['Genres'].nunique()"
   ]
  },
  {
   "cell_type": "code",
   "execution_count": 18,
   "metadata": {},
   "outputs": [
    {
     "data": {
      "text/plain": [
       "array(['Art & Design', 'Art & Design;Pretend Play',\n",
       "       'Art & Design;Creativity', 'Art & Design;Action & Adventure',\n",
       "       'Auto & Vehicles', 'Beauty', 'Books & Reference', 'Business',\n",
       "       'Comics', 'Comics;Creativity', 'Communication', 'Dating',\n",
       "       'Education;Education', 'Education', 'Education;Creativity',\n",
       "       'Education;Music & Video', 'Education;Action & Adventure',\n",
       "       'Education;Pretend Play', 'Education;Brain Games', 'Entertainment',\n",
       "       'Entertainment;Music & Video', 'Entertainment;Brain Games',\n",
       "       'Entertainment;Creativity', 'Events', 'Finance', 'Food & Drink',\n",
       "       'Health & Fitness', 'House & Home', 'Libraries & Demo',\n",
       "       'Lifestyle', 'Lifestyle;Pretend Play',\n",
       "       'Adventure;Action & Adventure', 'Arcade', 'Casual', 'Card',\n",
       "       'Casual;Pretend Play', 'Action', 'Strategy', 'Puzzle', 'Sports',\n",
       "       'Music', 'Word', 'Racing', 'Casual;Creativity',\n",
       "       'Casual;Action & Adventure', 'Simulation', 'Adventure', 'Board',\n",
       "       'Trivia', 'Role Playing', 'Simulation;Education',\n",
       "       'Action;Action & Adventure', 'Casual;Brain Games',\n",
       "       'Simulation;Action & Adventure', 'Educational;Creativity',\n",
       "       'Puzzle;Brain Games', 'Educational;Education', 'Card;Brain Games',\n",
       "       'Educational;Brain Games', 'Educational;Pretend Play',\n",
       "       'Entertainment;Education', 'Casual;Education',\n",
       "       'Music;Music & Video', 'Racing;Action & Adventure',\n",
       "       'Arcade;Pretend Play', 'Role Playing;Action & Adventure',\n",
       "       'Simulation;Pretend Play', 'Puzzle;Creativity',\n",
       "       'Sports;Action & Adventure', 'Educational;Action & Adventure',\n",
       "       'Arcade;Action & Adventure', 'Entertainment;Action & Adventure',\n",
       "       'Puzzle;Action & Adventure', 'Strategy;Action & Adventure',\n",
       "       'Music & Audio;Music & Video', 'Health & Fitness;Education',\n",
       "       'Adventure;Education', 'Board;Brain Games',\n",
       "       'Board;Action & Adventure', 'Board;Pretend Play',\n",
       "       'Casual;Music & Video', 'Role Playing;Pretend Play',\n",
       "       'Entertainment;Pretend Play', 'Video Players & Editors;Creativity',\n",
       "       'Card;Action & Adventure', 'Medical', 'Social', 'Shopping',\n",
       "       'Photography', 'Travel & Local',\n",
       "       'Travel & Local;Action & Adventure', 'Tools', 'Tools;Education',\n",
       "       'Personalization', 'Productivity', 'Parenting',\n",
       "       'Parenting;Music & Video', 'Parenting;Education',\n",
       "       'Parenting;Brain Games', 'Weather', 'Video Players & Editors',\n",
       "       'Video Players & Editors;Music & Video', 'News & Magazines',\n",
       "       'Maps & Navigation', 'Health & Fitness;Action & Adventure',\n",
       "       'Educational', 'Casino', 'Adventure;Brain Games',\n",
       "       'Trivia;Education', 'Lifestyle;Education',\n",
       "       'Books & Reference;Creativity', 'Books & Reference;Education',\n",
       "       'Puzzle;Education', 'Role Playing;Education',\n",
       "       'Role Playing;Brain Games', 'Strategy;Education',\n",
       "       'Racing;Pretend Play', 'Communication;Creativity',\n",
       "       'Strategy;Creativity'], dtype=object)"
      ]
     },
     "execution_count": 18,
     "metadata": {},
     "output_type": "execute_result"
    }
   ],
   "source": [
    "df['Genres'].unique()"
   ]
  },
  {
   "cell_type": "code",
   "execution_count": 19,
   "metadata": {},
   "outputs": [
    {
     "data": {
      "text/plain": [
       "4.193338    1469\n",
       "4.400000    1108\n",
       "4.300000    1076\n",
       "4.500000    1037\n",
       "4.200000     951\n",
       "4.600000     823\n",
       "4.100000     707\n",
       "4.000000     567\n",
       "4.700000     499\n",
       "3.900000     386\n",
       "3.800000     303\n",
       "5.000000     274\n",
       "3.700000     239\n",
       "4.800000     234\n",
       "3.600000     174\n",
       "3.500000     163\n",
       "3.400000     128\n",
       "3.300000     102\n",
       "4.900000      87\n",
       "3.000000      83\n",
       "3.100000      69\n",
       "3.200000      63\n",
       "2.900000      45\n",
       "2.800000      42\n",
       "2.700000      25\n",
       "2.600000      25\n",
       "2.500000      21\n",
       "2.300000      20\n",
       "2.400000      19\n",
       "1.000000      16\n",
       "2.200000      14\n",
       "1.900000      13\n",
       "2.000000      12\n",
       "1.700000       8\n",
       "1.800000       8\n",
       "2.100000       8\n",
       "1.600000       4\n",
       "1.400000       3\n",
       "1.500000       3\n",
       "1.200000       1\n",
       "Name: Rating, dtype: int64"
      ]
     },
     "execution_count": 19,
     "metadata": {},
     "output_type": "execute_result"
    }
   ],
   "source": [
    "df[\"Rating\"].value_counts()"
   ]
  },
  {
   "cell_type": "code",
   "execution_count": 20,
   "metadata": {},
   "outputs": [
    {
     "data": {
      "text/plain": [
       "0         10032\n",
       "$0.99       146\n",
       "$2.99       129\n",
       "$1.99        73\n",
       "$4.99        72\n",
       "          ...  \n",
       "$19.90        1\n",
       "$1.75         1\n",
       "$14.00        1\n",
       "$4.85         1\n",
       "$1.04         1\n",
       "Name: Price, Length: 92, dtype: int64"
      ]
     },
     "execution_count": 20,
     "metadata": {},
     "output_type": "execute_result"
    }
   ],
   "source": [
    "df[\"Price\"].value_counts()"
   ]
  },
  {
   "cell_type": "code",
   "execution_count": 21,
   "metadata": {},
   "outputs": [
    {
     "data": {
      "text/plain": [
       "1,000,000+        1578\n",
       "10,000,000+       1252\n",
       "100,000+          1169\n",
       "10,000+           1052\n",
       "1,000+             905\n",
       "5,000,000+         752\n",
       "100+               718\n",
       "500,000+           538\n",
       "50,000+            478\n",
       "5,000+             476\n",
       "100,000,000+       409\n",
       "10+                385\n",
       "500+               330\n",
       "50,000,000+        289\n",
       "50+                205\n",
       "5+                  82\n",
       "500,000,000+        72\n",
       "1+                  67\n",
       "1,000,000,000+      58\n",
       "0+                  14\n",
       "Name: Installs, dtype: int64"
      ]
     },
     "execution_count": 21,
     "metadata": {},
     "output_type": "execute_result"
    }
   ],
   "source": [
    "df[\"Installs\"].value_counts()"
   ]
  },
  {
   "cell_type": "code",
   "execution_count": 22,
   "metadata": {},
   "outputs": [
    {
     "name": "stdout",
     "output_type": "stream",
     "text": [
      "Index(['App', 'Category', 'Reviews', 'Size', 'Installs', 'Type', 'Price',\n",
      "       'Content Rating', 'Genres', 'Last Updated', 'Current Ver',\n",
      "       'Android Ver'],\n",
      "      dtype='object')\n",
      "Index(['Rating'], dtype='object')\n"
     ]
    }
   ],
   "source": [
    "#  Extract all categorical columns and numerical columns\n",
    "# cat_cols = categorical columns\n",
    "# num_cols = numerical columns\n",
    "# select_dtypes = it returns a dataframe\n",
    "cat_cols = df.select_dtypes(include='object').columns\n",
    "num_cols = df.select_dtypes(exclude='object').columns\n",
    "print(cat_cols)\n",
    "print(num_cols)"
   ]
  },
  {
   "cell_type": "markdown",
   "metadata": {},
   "source": [
    "**Notes:**\n",
    "From our buissness point of view these columns must be numeric:\n",
    "  1. Ratting  \n",
    "  2. Reviews  \n",
    "  3. Size  \n",
    "  4. Price  "
   ]
  },
  {
   "cell_type": "markdown",
   "metadata": {},
   "source": [
    "### Data Cleaning\n",
    "**Fix numerical columns**"
   ]
  },
  {
   "cell_type": "markdown",
   "metadata": {},
   "source": [
    "**Fix Reviews**"
   ]
  },
  {
   "cell_type": "code",
   "execution_count": 23,
   "metadata": {
    "execution": {
     "iopub.execute_input": "2022-06-20T17:53:19.634347Z",
     "iopub.status.busy": "2022-06-20T17:53:19.633936Z",
     "iopub.status.idle": "2022-06-20T17:53:19.643135Z",
     "shell.execute_reply": "2022-06-20T17:53:19.641973Z",
     "shell.execute_reply.started": "2022-06-20T17:53:19.634315Z"
    }
   },
   "outputs": [
    {
     "data": {
      "text/plain": [
       "array(['159', '967', '87510', ..., '603', '1195', '398307'], dtype=object)"
      ]
     },
     "execution_count": 23,
     "metadata": {},
     "output_type": "execute_result"
    }
   ],
   "source": [
    "df['Reviews'].unique()"
   ]
  },
  {
   "cell_type": "markdown",
   "metadata": {},
   "source": [
    "**Note:** From just looking we see that all data is numeric."
   ]
  },
  {
   "cell_type": "code",
   "execution_count": 24,
   "metadata": {
    "execution": {
     "iopub.execute_input": "2022-06-20T17:53:40.310792Z",
     "iopub.status.busy": "2022-06-20T17:53:40.310365Z",
     "iopub.status.idle": "2022-06-20T17:53:40.328334Z",
     "shell.execute_reply": "2022-06-20T17:53:40.327222Z",
     "shell.execute_reply.started": "2022-06-20T17:53:40.310756Z"
    }
   },
   "outputs": [],
   "source": [
    "# df['Reviews'] = pd.to_numeric(df['Reviews'], errors='coerce')"
   ]
  },
  {
   "cell_type": "code",
   "execution_count": 25,
   "metadata": {
    "execution": {
     "iopub.execute_input": "2022-06-20T17:53:54.937639Z",
     "iopub.status.busy": "2022-06-20T17:53:54.936983Z",
     "iopub.status.idle": "2022-06-20T17:53:54.963864Z",
     "shell.execute_reply": "2022-06-20T17:53:54.962739Z",
     "shell.execute_reply.started": "2022-06-20T17:53:54.937603Z"
    }
   },
   "outputs": [
    {
     "name": "stdout",
     "output_type": "stream",
     "text": [
      "<class 'pandas.core.frame.DataFrame'>\n",
      "Int64Index: 10829 entries, 0 to 10840\n",
      "Data columns (total 13 columns):\n",
      " #   Column          Non-Null Count  Dtype  \n",
      "---  ------          --------------  -----  \n",
      " 0   App             10829 non-null  object \n",
      " 1   Category        10829 non-null  object \n",
      " 2   Rating          10829 non-null  float64\n",
      " 3   Reviews         10829 non-null  object \n",
      " 4   Size            10829 non-null  object \n",
      " 5   Installs        10829 non-null  object \n",
      " 6   Type            10829 non-null  object \n",
      " 7   Price           10829 non-null  object \n",
      " 8   Content Rating  10829 non-null  object \n",
      " 9   Genres          10829 non-null  object \n",
      " 10  Last Updated    10829 non-null  object \n",
      " 11  Current Ver     10829 non-null  object \n",
      " 12  Android Ver     10829 non-null  object \n",
      "dtypes: float64(1), object(12)\n",
      "memory usage: 1.2+ MB\n"
     ]
    }
   ],
   "source": [
    "df.info()"
   ]
  },
  {
   "cell_type": "markdown",
   "metadata": {},
   "source": [
    "**Note:** Review is done."
   ]
  },
  {
   "cell_type": "markdown",
   "metadata": {},
   "source": [
    "**Fix Size**"
   ]
  },
  {
   "cell_type": "code",
   "execution_count": 26,
   "metadata": {
    "execution": {
     "iopub.execute_input": "2022-06-20T17:54:16.499525Z",
     "iopub.status.busy": "2022-06-20T17:54:16.499105Z",
     "iopub.status.idle": "2022-06-20T17:54:16.508372Z",
     "shell.execute_reply": "2022-06-20T17:54:16.507562Z",
     "shell.execute_reply.started": "2022-06-20T17:54:16.499494Z"
    }
   },
   "outputs": [
    {
     "data": {
      "text/plain": [
       "array(['19M', '14M', '8.7M', '25M', '2.8M', '5.6M', '29M', '33M', '3.1M',\n",
       "       '28M', '12M', '20M', '21M', '37M', '5.5M', '17M', '39M', '31M',\n",
       "       '4.2M', '7.0M', '23M', '6.0M', '6.1M', '4.6M', '9.2M', '5.2M',\n",
       "       '11M', '24M', 'Varies with device', '9.4M', '15M', '10M', '1.2M',\n",
       "       '26M', '8.0M', '7.9M', '56M', '57M', '35M', '54M', '201k', '3.6M',\n",
       "       '5.7M', '8.6M', '2.4M', '27M', '2.7M', '2.5M', '16M', '3.4M',\n",
       "       '8.9M', '3.9M', '2.9M', '38M', '32M', '5.4M', '18M', '1.1M',\n",
       "       '2.2M', '4.5M', '9.8M', '52M', '9.0M', '6.7M', '30M', '2.6M',\n",
       "       '7.1M', '3.7M', '22M', '7.4M', '6.4M', '3.2M', '8.2M', '9.9M',\n",
       "       '4.9M', '9.5M', '5.0M', '5.9M', '13M', '73M', '6.8M', '3.5M',\n",
       "       '4.0M', '2.3M', '7.2M', '2.1M', '42M', '7.3M', '9.1M', '55M',\n",
       "       '23k', '6.5M', '1.5M', '7.5M', '51M', '41M', '48M', '8.5M', '46M',\n",
       "       '8.3M', '4.3M', '4.7M', '3.3M', '40M', '7.8M', '8.8M', '6.6M',\n",
       "       '5.1M', '61M', '66M', '79k', '8.4M', '118k', '44M', '695k', '1.6M',\n",
       "       '6.2M', '18k', '53M', '1.4M', '3.0M', '5.8M', '3.8M', '9.6M',\n",
       "       '45M', '63M', '49M', '77M', '4.4M', '4.8M', '70M', '6.9M', '9.3M',\n",
       "       '10.0M', '8.1M', '36M', '84M', '97M', '2.0M', '1.9M', '1.8M',\n",
       "       '5.3M', '47M', '556k', '526k', '76M', '7.6M', '59M', '9.7M', '78M',\n",
       "       '72M', '43M', '7.7M', '6.3M', '334k', '34M', '93M', '65M', '79M',\n",
       "       '100M', '58M', '50M', '68M', '64M', '67M', '60M', '94M', '232k',\n",
       "       '99M', '624k', '95M', '8.5k', '41k', '292k', '80M', '1.7M', '74M',\n",
       "       '62M', '69M', '75M', '98M', '85M', '82M', '96M', '87M', '71M',\n",
       "       '86M', '91M', '81M', '92M', '83M', '88M', '704k', '862k', '899k',\n",
       "       '378k', '266k', '375k', '1.3M', '975k', '980k', '4.1M', '89M',\n",
       "       '696k', '544k', '525k', '920k', '779k', '853k', '720k', '713k',\n",
       "       '772k', '318k', '58k', '241k', '196k', '857k', '51k', '953k',\n",
       "       '865k', '251k', '930k', '540k', '313k', '746k', '203k', '26k',\n",
       "       '314k', '239k', '371k', '220k', '730k', '756k', '91k', '293k',\n",
       "       '17k', '74k', '14k', '317k', '78k', '924k', '902k', '818k', '81k',\n",
       "       '939k', '169k', '45k', '475k', '965k', '90M', '545k', '61k',\n",
       "       '283k', '655k', '714k', '93k', '872k', '121k', '322k', '1.0M',\n",
       "       '976k', '172k', '238k', '549k', '206k', '954k', '444k', '717k',\n",
       "       '210k', '609k', '308k', '705k', '306k', '904k', '473k', '175k',\n",
       "       '350k', '383k', '454k', '421k', '70k', '812k', '442k', '842k',\n",
       "       '417k', '412k', '459k', '478k', '335k', '782k', '721k', '430k',\n",
       "       '429k', '192k', '200k', '460k', '728k', '496k', '816k', '414k',\n",
       "       '506k', '887k', '613k', '243k', '569k', '778k', '683k', '592k',\n",
       "       '319k', '186k', '840k', '647k', '191k', '373k', '437k', '598k',\n",
       "       '716k', '585k', '982k', '219k', '55k', '948k', '323k', '691k',\n",
       "       '511k', '951k', '963k', '25k', '554k', '351k', '27k', '82k',\n",
       "       '208k', '913k', '514k', '551k', '29k', '103k', '898k', '743k',\n",
       "       '116k', '153k', '209k', '353k', '499k', '173k', '597k', '809k',\n",
       "       '122k', '411k', '400k', '801k', '787k', '50k', '643k', '986k',\n",
       "       '97k', '516k', '837k', '780k', '961k', '269k', '20k', '498k',\n",
       "       '600k', '749k', '642k', '881k', '72k', '656k', '601k', '221k',\n",
       "       '228k', '108k', '940k', '176k', '33k', '663k', '34k', '942k',\n",
       "       '259k', '164k', '458k', '245k', '629k', '28k', '288k', '775k',\n",
       "       '785k', '636k', '916k', '994k', '309k', '485k', '914k', '903k',\n",
       "       '608k', '500k', '54k', '562k', '847k', '957k', '688k', '811k',\n",
       "       '270k', '48k', '329k', '523k', '921k', '874k', '981k', '784k',\n",
       "       '280k', '24k', '518k', '754k', '892k', '154k', '860k', '364k',\n",
       "       '387k', '626k', '161k', '879k', '39k', '970k', '170k', '141k',\n",
       "       '160k', '144k', '143k', '190k', '376k', '193k', '246k', '73k',\n",
       "       '992k', '253k', '420k', '404k', '470k', '226k', '240k', '89k',\n",
       "       '234k', '257k', '861k', '467k', '157k', '44k', '676k', '67k',\n",
       "       '552k', '885k', '1020k', '582k', '619k'], dtype=object)"
      ]
     },
     "execution_count": 26,
     "metadata": {},
     "output_type": "execute_result"
    }
   ],
   "source": [
    "df['Size'].unique()"
   ]
  },
  {
   "cell_type": "markdown",
   "metadata": {},
   "source": [
    "**Note:**\n",
    "If we saw the size column data we will found at most data varies from:\n",
    "1. MegaByte\n",
    "2. KiloByte\n",
    "3. 1000+\n",
    "4. Varies from device\n",
    "\n",
    "So we will create new columns each size is in mega, if kilo byte we will change it to mega, 1000+ we will make it 1 mega, and \n",
    "varies from device will set it to Nan"
   ]
  },
  {
   "cell_type": "code",
   "execution_count": 27,
   "metadata": {},
   "outputs": [],
   "source": [
    "# procedure for converting the column \"Size\" to float\n",
    "# there are sizes counted in mb, kb, in numbers without measurement unit and with \"varies with device\"\n",
    "df['Size'] = df['Size'].astype(str).str.replace(\"M\", \"\")\n",
    "df['Size'] = df['Size'].replace(\"Varies with device\", np.nan)\n",
    "df['Size'] = df['Size'].astype(str).str.replace(\"k\", \"\")\n",
    "df['Size'] = pd.to_numeric(df['Size'], errors='coerce')\n",
    "df['Size'] = df['Size'].apply(lambda x: x/1000 if x>1000 else x)\n"
   ]
  },
  {
   "cell_type": "code",
   "execution_count": 28,
   "metadata": {
    "execution": {
     "iopub.execute_input": "2022-06-20T17:55:18.488447Z",
     "iopub.status.busy": "2022-06-20T17:55:18.487584Z",
     "iopub.status.idle": "2022-06-20T17:55:18.515073Z",
     "shell.execute_reply": "2022-06-20T17:55:18.514172Z",
     "shell.execute_reply.started": "2022-06-20T17:55:18.488408Z"
    }
   },
   "outputs": [
    {
     "name": "stdout",
     "output_type": "stream",
     "text": [
      "<class 'pandas.core.frame.DataFrame'>\n",
      "Int64Index: 10829 entries, 0 to 10840\n",
      "Data columns (total 13 columns):\n",
      " #   Column          Non-Null Count  Dtype  \n",
      "---  ------          --------------  -----  \n",
      " 0   App             10829 non-null  object \n",
      " 1   Category        10829 non-null  object \n",
      " 2   Rating          10829 non-null  float64\n",
      " 3   Reviews         10829 non-null  object \n",
      " 4   Size            9135 non-null   float64\n",
      " 5   Installs        10829 non-null  object \n",
      " 6   Type            10829 non-null  object \n",
      " 7   Price           10829 non-null  object \n",
      " 8   Content Rating  10829 non-null  object \n",
      " 9   Genres          10829 non-null  object \n",
      " 10  Last Updated    10829 non-null  object \n",
      " 11  Current Ver     10829 non-null  object \n",
      " 12  Android Ver     10829 non-null  object \n",
      "dtypes: float64(2), object(11)\n",
      "memory usage: 1.2+ MB\n"
     ]
    }
   ],
   "source": [
    "df.info()"
   ]
  },
  {
   "cell_type": "markdown",
   "metadata": {},
   "source": [
    "**Note:** Size is done"
   ]
  },
  {
   "cell_type": "markdown",
   "metadata": {},
   "source": [
    "**Fix Price**"
   ]
  },
  {
   "cell_type": "code",
   "execution_count": 29,
   "metadata": {
    "execution": {
     "iopub.execute_input": "2022-06-20T17:56:03.670117Z",
     "iopub.status.busy": "2022-06-20T17:56:03.669247Z",
     "iopub.status.idle": "2022-06-20T17:56:03.677807Z",
     "shell.execute_reply": "2022-06-20T17:56:03.676862Z",
     "shell.execute_reply.started": "2022-06-20T17:56:03.670079Z"
    }
   },
   "outputs": [
    {
     "data": {
      "text/plain": [
       "array(['0', '$4.99', '$3.99', '$6.99', '$1.49', '$2.99', '$7.99', '$5.99',\n",
       "       '$3.49', '$1.99', '$9.99', '$7.49', '$0.99', '$9.00', '$5.49',\n",
       "       '$10.00', '$24.99', '$11.99', '$79.99', '$16.99', '$14.99',\n",
       "       '$1.00', '$29.99', '$12.99', '$2.49', '$10.99', '$1.50', '$19.99',\n",
       "       '$15.99', '$33.99', '$74.99', '$39.99', '$3.95', '$4.49', '$1.70',\n",
       "       '$8.99', '$2.00', '$3.88', '$25.99', '$399.99', '$17.99',\n",
       "       '$400.00', '$3.02', '$1.76', '$4.84', '$4.77', '$1.61', '$2.50',\n",
       "       '$1.59', '$6.49', '$1.29', '$5.00', '$13.99', '$299.99', '$379.99',\n",
       "       '$37.99', '$18.99', '$389.99', '$19.90', '$8.49', '$1.75',\n",
       "       '$14.00', '$4.85', '$46.99', '$109.99', '$154.99', '$3.08',\n",
       "       '$2.59', '$4.80', '$1.96', '$19.40', '$3.90', '$4.59', '$15.46',\n",
       "       '$3.04', '$4.29', '$2.60', '$3.28', '$4.60', '$28.99', '$2.95',\n",
       "       '$2.90', '$1.97', '$200.00', '$89.99', '$2.56', '$30.99', '$3.61',\n",
       "       '$394.99', '$1.26', '$1.20', '$1.04'], dtype=object)"
      ]
     },
     "execution_count": 29,
     "metadata": {},
     "output_type": "execute_result"
    }
   ],
   "source": [
    "df['Price'].unique()"
   ]
  },
  {
   "cell_type": "markdown",
   "metadata": {},
   "source": [
    "**Note:**\n",
    "If we saw the price column data we will found at most data varies from:\n",
    "1. 0\n",
    "2. Price with dollar sign\n",
    "3. Every one\n",
    "\n",
    "So we will create new columns each price is in dollar, if 0 or every one we will set it to 0, else we remove dollar sign"
   ]
  },
  {
   "cell_type": "code",
   "execution_count": 30,
   "metadata": {},
   "outputs": [
    {
     "name": "stdout",
     "output_type": "stream",
     "text": [
      "0        0.0\n",
      "1        0.0\n",
      "2        0.0\n",
      "3        0.0\n",
      "4        0.0\n",
      "        ... \n",
      "10836    0.0\n",
      "10837    0.0\n",
      "10838    0.0\n",
      "10839    0.0\n",
      "10840    0.0\n",
      "Name: Price, Length: 10829, dtype: float64\n"
     ]
    }
   ],
   "source": [
    "# Clean the 'Price' column by removing the dollar sign\n",
    "df['Price'] = df['Price'].str.replace('$', '')\n",
    "\n",
    "# Convert '0' and 'Every one' to 0, and other values to float\n",
    "df['Price'] = df['Price'].apply(lambda x: 0 if str(x).lower() in ['0', 'every one'] else (0 if x == 'Everyone' else float(x)))\n",
    "\n",
    "# Check the 'Price' column\n",
    "print(df['Price'])"
   ]
  },
  {
   "cell_type": "code",
   "execution_count": 31,
   "metadata": {},
   "outputs": [
    {
     "data": {
      "text/plain": [
       "array([  0.  ,   4.99,   3.99,   6.99,   1.49,   2.99,   7.99,   5.99,\n",
       "         3.49,   1.99,   9.99,   7.49,   0.99,   9.  ,   5.49,  10.  ,\n",
       "        24.99,  11.99,  79.99,  16.99,  14.99,   1.  ,  29.99,  12.99,\n",
       "         2.49,  10.99,   1.5 ,  19.99,  15.99,  33.99,  74.99,  39.99,\n",
       "         3.95,   4.49,   1.7 ,   8.99,   2.  ,   3.88,  25.99, 399.99,\n",
       "        17.99, 400.  ,   3.02,   1.76,   4.84,   4.77,   1.61,   2.5 ,\n",
       "         1.59,   6.49,   1.29,   5.  ,  13.99, 299.99, 379.99,  37.99,\n",
       "        18.99, 389.99,  19.9 ,   8.49,   1.75,  14.  ,   4.85,  46.99,\n",
       "       109.99, 154.99,   3.08,   2.59,   4.8 ,   1.96,  19.4 ,   3.9 ,\n",
       "         4.59,  15.46,   3.04,   4.29,   2.6 ,   3.28,   4.6 ,  28.99,\n",
       "         2.95,   2.9 ,   1.97, 200.  ,  89.99,   2.56,  30.99,   3.61,\n",
       "       394.99,   1.26,   1.2 ,   1.04])"
      ]
     },
     "execution_count": 31,
     "metadata": {},
     "output_type": "execute_result"
    }
   ],
   "source": [
    "df['Price'].unique()"
   ]
  },
  {
   "cell_type": "code",
   "execution_count": 32,
   "metadata": {
    "execution": {
     "iopub.execute_input": "2022-06-20T17:56:28.9268Z",
     "iopub.status.busy": "2022-06-20T17:56:28.926376Z",
     "iopub.status.idle": "2022-06-20T17:56:28.951569Z",
     "shell.execute_reply": "2022-06-20T17:56:28.950415Z",
     "shell.execute_reply.started": "2022-06-20T17:56:28.926764Z"
    }
   },
   "outputs": [
    {
     "name": "stdout",
     "output_type": "stream",
     "text": [
      "<class 'pandas.core.frame.DataFrame'>\n",
      "Int64Index: 10829 entries, 0 to 10840\n",
      "Data columns (total 13 columns):\n",
      " #   Column          Non-Null Count  Dtype  \n",
      "---  ------          --------------  -----  \n",
      " 0   App             10829 non-null  object \n",
      " 1   Category        10829 non-null  object \n",
      " 2   Rating          10829 non-null  float64\n",
      " 3   Reviews         10829 non-null  object \n",
      " 4   Size            9135 non-null   float64\n",
      " 5   Installs        10829 non-null  object \n",
      " 6   Type            10829 non-null  object \n",
      " 7   Price           10829 non-null  float64\n",
      " 8   Content Rating  10829 non-null  object \n",
      " 9   Genres          10829 non-null  object \n",
      " 10  Last Updated    10829 non-null  object \n",
      " 11  Current Ver     10829 non-null  object \n",
      " 12  Android Ver     10829 non-null  object \n",
      "dtypes: float64(3), object(10)\n",
      "memory usage: 1.2+ MB\n"
     ]
    }
   ],
   "source": [
    "df.info()"
   ]
  },
  {
   "cell_type": "markdown",
   "metadata": {},
   "source": [
    "**Note:** Price is done\n",
    "\n",
    "We now done fix numerical columns"
   ]
  },
  {
   "cell_type": "code",
   "execution_count": 33,
   "metadata": {},
   "outputs": [
    {
     "data": {
      "text/plain": [
       "483"
      ]
     },
     "execution_count": 33,
     "metadata": {},
     "output_type": "execute_result"
    }
   ],
   "source": [
    "# Checking duplicated values in the columns of the dataset\n",
    "df.duplicated().sum()"
   ]
  },
  {
   "cell_type": "code",
   "execution_count": 34,
   "metadata": {},
   "outputs": [
    {
     "data": {
      "text/plain": [
       "(10346, 13)"
      ]
     },
     "execution_count": 34,
     "metadata": {},
     "output_type": "execute_result"
    }
   ],
   "source": [
    "# Dropping Duplicate values from the Dataset\n",
    "df.drop_duplicates(inplace=True)\n",
    "df.shape"
   ]
  },
  {
   "cell_type": "markdown",
   "metadata": {},
   "source": [
    "### Apply univarant analysis (Numerical Columns)"
   ]
  },
  {
   "cell_type": "code",
   "execution_count": 35,
   "metadata": {
    "execution": {
     "iopub.execute_input": "2022-06-20T17:56:58.623434Z",
     "iopub.status.busy": "2022-06-20T17:56:58.622762Z",
     "iopub.status.idle": "2022-06-20T17:56:58.655919Z",
     "shell.execute_reply": "2022-06-20T17:56:58.655116Z",
     "shell.execute_reply.started": "2022-06-20T17:56:58.623388Z"
    }
   },
   "outputs": [
    {
     "data": {
      "text/html": [
       "<div>\n",
       "<style scoped>\n",
       "    .dataframe tbody tr th:only-of-type {\n",
       "        vertical-align: middle;\n",
       "    }\n",
       "\n",
       "    .dataframe tbody tr th {\n",
       "        vertical-align: top;\n",
       "    }\n",
       "\n",
       "    .dataframe thead th {\n",
       "        text-align: right;\n",
       "    }\n",
       "</style>\n",
       "<table border=\"1\" class=\"dataframe\">\n",
       "  <thead>\n",
       "    <tr style=\"text-align: right;\">\n",
       "      <th></th>\n",
       "      <th>Rating</th>\n",
       "      <th>Size</th>\n",
       "      <th>Price</th>\n",
       "    </tr>\n",
       "  </thead>\n",
       "  <tbody>\n",
       "    <tr>\n",
       "      <th>count</th>\n",
       "      <td>10346.000000</td>\n",
       "      <td>8821.000000</td>\n",
       "      <td>10346.000000</td>\n",
       "    </tr>\n",
       "    <tr>\n",
       "      <th>mean</th>\n",
       "      <td>4.188718</td>\n",
       "      <td>37.072545</td>\n",
       "      <td>1.031561</td>\n",
       "    </tr>\n",
       "    <tr>\n",
       "      <th>std</th>\n",
       "      <td>0.484165</td>\n",
       "      <td>99.503135</td>\n",
       "      <td>16.287252</td>\n",
       "    </tr>\n",
       "    <tr>\n",
       "      <th>min</th>\n",
       "      <td>1.000000</td>\n",
       "      <td>1.000000</td>\n",
       "      <td>0.000000</td>\n",
       "    </tr>\n",
       "    <tr>\n",
       "      <th>25%</th>\n",
       "      <td>4.100000</td>\n",
       "      <td>5.500000</td>\n",
       "      <td>0.000000</td>\n",
       "    </tr>\n",
       "    <tr>\n",
       "      <th>50%</th>\n",
       "      <td>4.200000</td>\n",
       "      <td>14.000000</td>\n",
       "      <td>0.000000</td>\n",
       "    </tr>\n",
       "    <tr>\n",
       "      <th>75%</th>\n",
       "      <td>4.500000</td>\n",
       "      <td>33.000000</td>\n",
       "      <td>0.000000</td>\n",
       "    </tr>\n",
       "    <tr>\n",
       "      <th>max</th>\n",
       "      <td>5.000000</td>\n",
       "      <td>994.000000</td>\n",
       "      <td>400.000000</td>\n",
       "    </tr>\n",
       "  </tbody>\n",
       "</table>\n",
       "</div>"
      ],
      "text/plain": [
       "             Rating         Size         Price\n",
       "count  10346.000000  8821.000000  10346.000000\n",
       "mean       4.188718    37.072545      1.031561\n",
       "std        0.484165    99.503135     16.287252\n",
       "min        1.000000     1.000000      0.000000\n",
       "25%        4.100000     5.500000      0.000000\n",
       "50%        4.200000    14.000000      0.000000\n",
       "75%        4.500000    33.000000      0.000000\n",
       "max        5.000000   994.000000    400.000000"
      ]
     },
     "execution_count": 35,
     "metadata": {},
     "output_type": "execute_result"
    }
   ],
   "source": [
    "df.describe()"
   ]
  },
  {
   "cell_type": "code",
   "execution_count": 36,
   "metadata": {
    "execution": {
     "iopub.execute_input": "2022-06-20T17:58:17.215082Z",
     "iopub.status.busy": "2022-06-20T17:58:17.214126Z",
     "iopub.status.idle": "2022-06-20T17:58:17.225254Z",
     "shell.execute_reply": "2022-06-20T17:58:17.224398Z",
     "shell.execute_reply.started": "2022-06-20T17:58:17.21504Z"
    }
   },
   "outputs": [],
   "source": [
    "df['Category'] = df['Category'].apply(lambda cat : cat.title())"
   ]
  },
  {
   "cell_type": "code",
   "execution_count": 37,
   "metadata": {
    "execution": {
     "iopub.execute_input": "2022-06-20T17:58:22.799823Z",
     "iopub.status.busy": "2022-06-20T17:58:22.799396Z",
     "iopub.status.idle": "2022-06-20T17:58:22.808761Z",
     "shell.execute_reply": "2022-06-20T17:58:22.807639Z",
     "shell.execute_reply.started": "2022-06-20T17:58:22.799789Z"
    }
   },
   "outputs": [
    {
     "data": {
      "text/plain": [
       "array(['Art_And_Design', 'Auto_And_Vehicles', 'Beauty',\n",
       "       'Books_And_Reference', 'Business', 'Comics', 'Communication',\n",
       "       'Dating', 'Education', 'Entertainment', 'Events', 'Finance',\n",
       "       'Food_And_Drink', 'Health_And_Fitness', 'House_And_Home',\n",
       "       'Libraries_And_Demo', 'Lifestyle', 'Game', 'Family', 'Medical',\n",
       "       'Social', 'Shopping', 'Photography', 'Sports', 'Travel_And_Local',\n",
       "       'Tools', 'Personalization', 'Productivity', 'Parenting', 'Weather',\n",
       "       'Video_Players', 'News_And_Magazines', 'Maps_And_Navigation'],\n",
       "      dtype=object)"
      ]
     },
     "execution_count": 37,
     "metadata": {},
     "output_type": "execute_result"
    }
   ],
   "source": [
    "df['Category'].unique()"
   ]
  },
  {
   "cell_type": "code",
   "execution_count": 38,
   "metadata": {
    "execution": {
     "iopub.execute_input": "2022-06-20T17:58:29.341013Z",
     "iopub.status.busy": "2022-06-20T17:58:29.340058Z",
     "iopub.status.idle": "2022-06-20T17:58:29.35114Z",
     "shell.execute_reply": "2022-06-20T17:58:29.350423Z",
     "shell.execute_reply.started": "2022-06-20T17:58:29.340972Z"
    }
   },
   "outputs": [
    {
     "data": {
      "text/plain": [
       "Family                 1939\n",
       "Game                   1121\n",
       "Tools                   841\n",
       "Business                427\n",
       "Medical                 408\n",
       "Productivity            407\n",
       "Personalization         386\n",
       "Lifestyle               373\n",
       "Communication           366\n",
       "Finance                 360\n",
       "Sports                  351\n",
       "Photography             322\n",
       "Health_And_Fitness      306\n",
       "Social                  280\n",
       "News_And_Magazines      264\n",
       "Travel_And_Local        237\n",
       "Books_And_Reference     229\n",
       "Shopping                224\n",
       "Dating                  196\n",
       "Video_Players           175\n",
       "Maps_And_Navigation     137\n",
       "Education               130\n",
       "Food_And_Drink          124\n",
       "Entertainment           111\n",
       "Auto_And_Vehicles        85\n",
       "Libraries_And_Demo       84\n",
       "Weather                  82\n",
       "House_And_Home           80\n",
       "Events                   64\n",
       "Art_And_Design           64\n",
       "Parenting                60\n",
       "Comics                   60\n",
       "Beauty                   53\n",
       "Name: Category, dtype: int64"
      ]
     },
     "execution_count": 38,
     "metadata": {},
     "output_type": "execute_result"
    }
   ],
   "source": [
    "df['Category'].value_counts()"
   ]
  },
  {
   "cell_type": "code",
   "execution_count": 39,
   "metadata": {
    "execution": {
     "iopub.execute_input": "2022-06-20T17:58:43.072425Z",
     "iopub.status.busy": "2022-06-20T17:58:43.072043Z",
     "iopub.status.idle": "2022-06-20T17:58:43.080071Z",
     "shell.execute_reply": "2022-06-20T17:58:43.079182Z",
     "shell.execute_reply.started": "2022-06-20T17:58:43.072395Z"
    }
   },
   "outputs": [
    {
     "data": {
      "text/plain": [
       "array(['10,000+', '500,000+', '5,000,000+', '50,000,000+', '100,000+',\n",
       "       '50,000+', '1,000,000+', '10,000,000+', '5,000+', '100,000,000+',\n",
       "       '1,000,000,000+', '1,000+', '500,000,000+', '50+', '100+', '500+',\n",
       "       '10+', '1+', '5+', '0+'], dtype=object)"
      ]
     },
     "execution_count": 39,
     "metadata": {},
     "output_type": "execute_result"
    }
   ],
   "source": [
    "df['Installs'].unique()"
   ]
  },
  {
   "cell_type": "code",
   "execution_count": 40,
   "metadata": {
    "execution": {
     "iopub.execute_input": "2022-06-20T17:58:50.890387Z",
     "iopub.status.busy": "2022-06-20T17:58:50.889986Z",
     "iopub.status.idle": "2022-06-20T17:58:50.899911Z",
     "shell.execute_reply": "2022-06-20T17:58:50.89919Z",
     "shell.execute_reply.started": "2022-06-20T17:58:50.890357Z"
    }
   },
   "outputs": [
    {
     "data": {
      "text/plain": [
       "1,000,000+        1487\n",
       "10,000,000+       1132\n",
       "100,000+          1129\n",
       "10,000+           1031\n",
       "1,000+             888\n",
       "100+               709\n",
       "5,000,000+         683\n",
       "500,000+           516\n",
       "50,000+            473\n",
       "5,000+             468\n",
       "10+                384\n",
       "100,000,000+       369\n",
       "500+               328\n",
       "50,000,000+        272\n",
       "50+                204\n",
       "5+                  82\n",
       "1+                  67\n",
       "500,000,000+        61\n",
       "1,000,000,000+      49\n",
       "0+                  14\n",
       "Name: Installs, dtype: int64"
      ]
     },
     "execution_count": 40,
     "metadata": {},
     "output_type": "execute_result"
    }
   ],
   "source": [
    "df['Installs'].value_counts()"
   ]
  },
  {
   "cell_type": "code",
   "execution_count": 41,
   "metadata": {
    "execution": {
     "iopub.execute_input": "2022-06-20T17:59:07.027119Z",
     "iopub.status.busy": "2022-06-20T17:59:07.02676Z",
     "iopub.status.idle": "2022-06-20T17:59:07.034157Z",
     "shell.execute_reply": "2022-06-20T17:59:07.033416Z",
     "shell.execute_reply.started": "2022-06-20T17:59:07.02709Z"
    }
   },
   "outputs": [
    {
     "data": {
      "text/plain": [
       "array(['Free', 'Paid'], dtype=object)"
      ]
     },
     "execution_count": 41,
     "metadata": {},
     "output_type": "execute_result"
    }
   ],
   "source": [
    "df['Type'].unique()"
   ]
  },
  {
   "cell_type": "code",
   "execution_count": 42,
   "metadata": {
    "execution": {
     "iopub.execute_input": "2022-06-20T17:59:26.640721Z",
     "iopub.status.busy": "2022-06-20T17:59:26.639977Z",
     "iopub.status.idle": "2022-06-20T17:59:26.647783Z",
     "shell.execute_reply": "2022-06-20T17:59:26.646853Z",
     "shell.execute_reply.started": "2022-06-20T17:59:26.640679Z"
    }
   },
   "outputs": [
    {
     "data": {
      "text/plain": [
       "array(['Everyone', 'Teen', 'Everyone 10+', 'Mature 17+',\n",
       "       'Adults only 18+', 'Unrated'], dtype=object)"
      ]
     },
     "execution_count": 42,
     "metadata": {},
     "output_type": "execute_result"
    }
   ],
   "source": [
    "df['Content Rating'].unique()"
   ]
  },
  {
   "cell_type": "code",
   "execution_count": 43,
   "metadata": {
    "execution": {
     "iopub.execute_input": "2022-06-20T17:59:32.836687Z",
     "iopub.status.busy": "2022-06-20T17:59:32.83628Z",
     "iopub.status.idle": "2022-06-20T17:59:32.846276Z",
     "shell.execute_reply": "2022-06-20T17:59:32.845372Z",
     "shell.execute_reply.started": "2022-06-20T17:59:32.836657Z"
    },
    "scrolled": true
   },
   "outputs": [
    {
     "data": {
      "text/plain": [
       "Everyone           8372\n",
       "Teen               1146\n",
       "Mature 17+          447\n",
       "Everyone 10+        376\n",
       "Adults only 18+       3\n",
       "Unrated               2\n",
       "Name: Content Rating, dtype: int64"
      ]
     },
     "execution_count": 43,
     "metadata": {},
     "output_type": "execute_result"
    }
   ],
   "source": [
    "df['Content Rating'].value_counts()"
   ]
  },
  {
   "cell_type": "code",
   "execution_count": 44,
   "metadata": {
    "execution": {
     "iopub.execute_input": "2022-06-20T17:59:54.270245Z",
     "iopub.status.busy": "2022-06-20T17:59:54.26982Z",
     "iopub.status.idle": "2022-06-20T17:59:54.278102Z",
     "shell.execute_reply": "2022-06-20T17:59:54.277016Z",
     "shell.execute_reply.started": "2022-06-20T17:59:54.27021Z"
    }
   },
   "outputs": [
    {
     "data": {
      "text/plain": [
       "array(['4.0.3 and up', '4.2 and up', '4.4 and up', '2.3 and up',\n",
       "       '3.0 and up', '4.1 and up', '4.0 and up', '2.3.3 and up',\n",
       "       'Varies with device', '2.2 and up', '5.0 and up', '6.0 and up',\n",
       "       '1.6 and up', '1.5 and up', '2.1 and up', '7.0 and up',\n",
       "       '5.1 and up', '4.3 and up', '4.0.3 - 7.1.1', '2.0 and up',\n",
       "       '3.2 and up', '4.4W and up', '7.1 and up', '7.0 - 7.1.1',\n",
       "       '8.0 and up', '5.0 - 8.0', '3.1 and up', '2.0.1 and up',\n",
       "       '4.1 - 7.1.1', '5.0 - 6.0', '1.0 and up', '2.2 - 7.1.1',\n",
       "       '5.0 - 7.1.1'], dtype=object)"
      ]
     },
     "execution_count": 44,
     "metadata": {},
     "output_type": "execute_result"
    }
   ],
   "source": [
    "df['Android Ver'].unique()"
   ]
  },
  {
   "cell_type": "code",
   "execution_count": 45,
   "metadata": {
    "execution": {
     "iopub.execute_input": "2022-06-20T18:00:00.444849Z",
     "iopub.status.busy": "2022-06-20T18:00:00.444458Z",
     "iopub.status.idle": "2022-06-20T18:00:00.455294Z",
     "shell.execute_reply": "2022-06-20T18:00:00.454222Z",
     "shell.execute_reply.started": "2022-06-20T18:00:00.444818Z"
    }
   },
   "outputs": [
    {
     "data": {
      "text/plain": [
       "4.1 and up            2379\n",
       "4.0.3 and up          1451\n",
       "4.0 and up            1335\n",
       "Varies with device    1220\n",
       "4.4 and up             894\n",
       "2.3 and up             642\n",
       "5.0 and up             546\n",
       "4.2 and up             386\n",
       "2.3.3 and up           279\n",
       "2.2 and up             239\n",
       "3.0 and up             236\n",
       "4.3 and up             235\n",
       "2.1 and up             133\n",
       "1.6 and up             115\n",
       "6.0 and up              58\n",
       "7.0 and up              42\n",
       "3.2 and up              36\n",
       "2.0 and up              31\n",
       "5.1 and up              22\n",
       "1.5 and up              19\n",
       "4.4W and up             11\n",
       "3.1 and up              10\n",
       "2.0.1 and up             7\n",
       "8.0 and up               6\n",
       "7.1 and up               3\n",
       "4.0.3 - 7.1.1            2\n",
       "5.0 - 8.0                2\n",
       "1.0 and up               2\n",
       "7.0 - 7.1.1              1\n",
       "4.1 - 7.1.1              1\n",
       "5.0 - 6.0                1\n",
       "2.2 - 7.1.1              1\n",
       "5.0 - 7.1.1              1\n",
       "Name: Android Ver, dtype: int64"
      ]
     },
     "execution_count": 45,
     "metadata": {},
     "output_type": "execute_result"
    }
   ],
   "source": [
    "df['Android Ver'].value_counts()"
   ]
  },
  {
   "cell_type": "code",
   "execution_count": 46,
   "metadata": {
    "execution": {
     "iopub.execute_input": "2022-06-20T18:00:29.512051Z",
     "iopub.status.busy": "2022-06-20T18:00:29.51167Z",
     "iopub.status.idle": "2022-06-20T18:00:29.541808Z",
     "shell.execute_reply": "2022-06-20T18:00:29.54107Z",
     "shell.execute_reply.started": "2022-06-20T18:00:29.512021Z"
    }
   },
   "outputs": [],
   "source": [
    "# del df['Genres']\n",
    "# del df['Last Updated']\n",
    "# del df['Current Ver']\n",
    "# df"
   ]
  },
  {
   "cell_type": "markdown",
   "metadata": {},
   "source": [
    "**Check outliers**"
   ]
  },
  {
   "cell_type": "code",
   "execution_count": 47,
   "metadata": {
    "execution": {
     "iopub.execute_input": "2022-06-20T18:02:11.187029Z",
     "iopub.status.busy": "2022-06-20T18:02:11.186025Z",
     "iopub.status.idle": "2022-06-20T18:02:11.193077Z",
     "shell.execute_reply": "2022-06-20T18:02:11.192229Z",
     "shell.execute_reply.started": "2022-06-20T18:02:11.186974Z"
    }
   },
   "outputs": [],
   "source": [
    "def check_outlier(df, col):\n",
    "    if df[col].dtype != 'float64' and df[col].dtype != 'int64':\n",
    "        df[col] = pd.to_numeric(df[col], errors='coerce')\n",
    "    plt.figure()\n",
    "    sns.boxplot(x = col, data=df)\n",
    "    sns.stripplot(x = col, data=df, color='#0000')"
   ]
  },
  {
   "cell_type": "code",
   "execution_count": 48,
   "metadata": {
    "execution": {
     "iopub.execute_input": "2022-06-20T18:06:04.967749Z",
     "iopub.status.busy": "2022-06-20T18:06:04.967289Z",
     "iopub.status.idle": "2022-06-20T18:06:06.148188Z",
     "shell.execute_reply": "2022-06-20T18:06:06.147189Z",
     "shell.execute_reply.started": "2022-06-20T18:06:04.967717Z"
    }
   },
   "outputs": [
    {
     "data": {
      "image/png": "[encoded data removed]",
      "text/plain": [
       "<Figure size 432x288 with 1 Axes>"
      ]
     },
     "metadata": {
      "needs_background": "light"
     },
     "output_type": "display_data"
    },
    {
     "data": {
      "image/png": "[encoded data removed]",
      "text/plain": [
       "<Figure size 432x288 with 1 Axes>"
      ]
     },
     "metadata": {
      "needs_background": "light"
     },
     "output_type": "display_data"
    },
    {
     "data": {
      "image/png": "[encoded data removed]",
      "text/plain": [
       "<Figure size 432x288 with 1 Axes>"
      ]
     },
     "metadata": {
      "needs_background": "light"
     },
     "output_type": "display_data"
    }
   ],
   "source": [
    "for col in ['Rating', 'Reviews', 'Price']:\n",
    "    check_outlier(df, col)"
   ]
  },
  {
   "cell_type": "markdown",
   "metadata": {},
   "source": [
    "**Note:** \n",
    "* These outliers mostly not errors cuz this is busness values, so we will not remove it.\n",
    "* In other somecases u can take outliers rows in another dataset then analysis it, and then analyze clean data alone."
   ]
  },
  {
   "cell_type": "markdown",
   "metadata": {},
   "source": [
    "**The most expensive app in the store.**"
   ]
  },
  {
   "cell_type": "code",
   "execution_count": 49,
   "metadata": {
    "execution": {
     "iopub.execute_input": "2022-06-20T18:06:32.234658Z",
     "iopub.status.busy": "2022-06-20T18:06:32.234253Z",
     "iopub.status.idle": "2022-06-20T18:06:32.252428Z",
     "shell.execute_reply": "2022-06-20T18:06:32.251452Z",
     "shell.execute_reply.started": "2022-06-20T18:06:32.234622Z"
    }
   },
   "outputs": [
    {
     "name": "stdout",
     "output_type": "stream",
     "text": [
      "4367    I'm Rich - Trump Edition\n",
      "Name: App, dtype: object\n"
     ]
    }
   ],
   "source": [
    "expensive_app = df[df['Price'] == df['Price'].max()].loc[:, 'App']\n",
    "print(expensive_app)\n"
   ]
  },
  {
   "cell_type": "markdown",
   "metadata": {},
   "source": [
    "**A Genre has more apps.**"
   ]
  },
  {
   "cell_type": "code",
   "execution_count": 50,
   "metadata": {
    "execution": {
     "iopub.execute_input": "2022-06-20T18:06:45.703388Z",
     "iopub.status.busy": "2022-06-20T18:06:45.702942Z",
     "iopub.status.idle": "2022-06-20T18:06:45.74276Z",
     "shell.execute_reply": "2022-06-20T18:06:45.741791Z",
     "shell.execute_reply.started": "2022-06-20T18:06:45.703352Z"
    }
   },
   "outputs": [
    {
     "name": "stdout",
     "output_type": "stream",
     "text": [
      "Tools                                840\n",
      "Entertainment                        587\n",
      "Education                            526\n",
      "Business                             427\n",
      "Medical                              408\n",
      "                                    ... \n",
      "Parenting;Brain Games                  1\n",
      "Travel & Local;Action & Adventure      1\n",
      "Lifestyle;Pretend Play                 1\n",
      "Tools;Education                        1\n",
      "Strategy;Creativity                    1\n",
      "Name: Genres, Length: 119, dtype: int64\n"
     ]
    }
   ],
   "source": [
    "genre_counts = df['Genres'].value_counts()\n",
    "print(genre_counts)"
   ]
  },
  {
   "cell_type": "code",
   "execution_count": 51,
   "metadata": {},
   "outputs": [
    {
     "name": "stdout",
     "output_type": "stream",
     "text": [
      "Tools            840\n",
      "Entertainment    587\n",
      "Education        526\n",
      "Business         427\n",
      "Medical          408\n",
      "Name: Genres, dtype: int64\n"
     ]
    }
   ],
   "source": [
    "top_genres = genre_counts.head()\n",
    "print(top_genres)"
   ]
  },
  {
   "cell_type": "code",
   "execution_count": 52,
   "metadata": {
    "execution": {
     "iopub.execute_input": "2022-06-20T18:06:55.720056Z",
     "iopub.status.busy": "2022-06-20T18:06:55.71965Z",
     "iopub.status.idle": "2022-06-20T18:06:56.409038Z",
     "shell.execute_reply": "2022-06-20T18:06:56.407518Z",
     "shell.execute_reply.started": "2022-06-20T18:06:55.720023Z"
    }
   },
   "outputs": [
    {
     "data": {
      "text/plain": [
       "<AxesSubplot:xlabel='count', ylabel='Category'>"
      ]
     },
     "execution_count": 52,
     "metadata": {},
     "output_type": "execute_result"
    },
    {
     "data": {
      "image/png": "[encoded data removed]",
      "text/plain": [
       "<Figure size 432x288 with 1 Axes>"
      ]
     },
     "metadata": {
      "needs_background": "light"
     },
     "output_type": "display_data"
    }
   ],
   "source": [
    "sns.countplot(y='Category', data = df, palette='mako', hue='Type')"
   ]
  },
  {
   "cell_type": "markdown",
   "metadata": {},
   "source": [
    "**Notes:** \n",
    "* from these numbers you can see that the most frequent apps in category family, specific much more in free than paid. \n",
    "* and the lowest from beauty, specific all is free apps no paid apps."
   ]
  },
  {
   "cell_type": "markdown",
   "metadata": {},
   "source": [
    "**The average size of free & paid apps.**"
   ]
  },
  {
   "cell_type": "code",
   "execution_count": 53,
   "metadata": {
    "execution": {
     "iopub.execute_input": "2022-06-20T18:07:16.740597Z",
     "iopub.status.busy": "2022-06-20T18:07:16.740206Z",
     "iopub.status.idle": "2022-06-20T18:07:16.752944Z",
     "shell.execute_reply": "2022-06-20T18:07:16.751951Z",
     "shell.execute_reply.started": "2022-06-20T18:07:16.740567Z"
    }
   },
   "outputs": [
    {
     "data": {
      "text/plain": [
       "Type\n",
       "Free    35.314238\n",
       "Paid    57.857878\n",
       "Name: Size, dtype: float64"
      ]
     },
     "execution_count": 53,
     "metadata": {},
     "output_type": "execute_result"
    }
   ],
   "source": [
    "df.groupby('Type')['Size'].mean()"
   ]
  },
  {
   "cell_type": "code",
   "execution_count": 54,
   "metadata": {
    "execution": {
     "iopub.execute_input": "2022-06-20T18:07:22.980769Z",
     "iopub.status.busy": "2022-06-20T18:07:22.980382Z",
     "iopub.status.idle": "2022-06-20T18:07:23.328112Z",
     "shell.execute_reply": "2022-06-20T18:07:23.327426Z",
     "shell.execute_reply.started": "2022-06-20T18:07:22.980738Z"
    }
   },
   "outputs": [
    {
     "data": {
      "text/plain": [
       "<AxesSubplot:xlabel='Type', ylabel='Size'>"
      ]
     },
     "execution_count": 54,
     "metadata": {},
     "output_type": "execute_result"
    },
    {
     "data": {
      "image/png": "[encoded data removed]",
      "text/plain": [
       "<Figure size 432x288 with 1 Axes>"
      ]
     },
     "metadata": {
      "needs_background": "light"
     },
     "output_type": "display_data"
    }
   ],
   "source": [
    "sns.barplot(x = 'Type', y = 'Size', data = df)"
   ]
  },
  {
   "cell_type": "markdown",
   "metadata": {},
   "source": [
    "**Note:** We can notice the free apps is more large than paid (Sizes in Mega)."
   ]
  },
  {
   "cell_type": "markdown",
   "metadata": {},
   "source": [
    "**The top expensive apps that have rate 5.**"
   ]
  },
  {
   "cell_type": "code",
   "execution_count": 55,
   "metadata": {
    "execution": {
     "iopub.execute_input": "2022-06-20T18:07:42.740238Z",
     "iopub.status.busy": "2022-06-20T18:07:42.739807Z",
     "iopub.status.idle": "2022-06-20T18:07:42.76052Z",
     "shell.execute_reply": "2022-06-20T18:07:42.759565Z",
     "shell.execute_reply.started": "2022-06-20T18:07:42.740201Z"
    }
   },
   "outputs": [
    {
     "data": {
      "text/html": [
       "<div>\n",
       "<style scoped>\n",
       "    .dataframe tbody tr th:only-of-type {\n",
       "        vertical-align: middle;\n",
       "    }\n",
       "\n",
       "    .dataframe tbody tr th {\n",
       "        vertical-align: top;\n",
       "    }\n",
       "\n",
       "    .dataframe thead th {\n",
       "        text-align: right;\n",
       "    }\n",
       "</style>\n",
       "<table border=\"1\" class=\"dataframe\">\n",
       "  <thead>\n",
       "    <tr style=\"text-align: right;\">\n",
       "      <th></th>\n",
       "      <th>App</th>\n",
       "      <th>Category</th>\n",
       "      <th>Rating</th>\n",
       "      <th>Reviews</th>\n",
       "      <th>Size</th>\n",
       "      <th>Installs</th>\n",
       "      <th>Type</th>\n",
       "      <th>Price</th>\n",
       "      <th>Content Rating</th>\n",
       "      <th>Genres</th>\n",
       "      <th>Last Updated</th>\n",
       "      <th>Current Ver</th>\n",
       "      <th>Android Ver</th>\n",
       "    </tr>\n",
       "  </thead>\n",
       "  <tbody>\n",
       "    <tr>\n",
       "      <th>5489</th>\n",
       "      <td>AP Art History Flashcards</td>\n",
       "      <td>Family</td>\n",
       "      <td>5.0</td>\n",
       "      <td>1</td>\n",
       "      <td>96.0</td>\n",
       "      <td>10+</td>\n",
       "      <td>Paid</td>\n",
       "      <td>29.99</td>\n",
       "      <td>Mature 17+</td>\n",
       "      <td>Education</td>\n",
       "      <td>January 19, 2016</td>\n",
       "      <td>3.30</td>\n",
       "      <td>4.0 and up</td>\n",
       "    </tr>\n",
       "    <tr>\n",
       "      <th>7477</th>\n",
       "      <td>USMLE Step 2 CK Flashcards</td>\n",
       "      <td>Family</td>\n",
       "      <td>5.0</td>\n",
       "      <td>1</td>\n",
       "      <td>40.0</td>\n",
       "      <td>10+</td>\n",
       "      <td>Paid</td>\n",
       "      <td>19.99</td>\n",
       "      <td>Everyone</td>\n",
       "      <td>Education</td>\n",
       "      <td>May 26, 2014</td>\n",
       "      <td>2.47</td>\n",
       "      <td>2.2 and up</td>\n",
       "    </tr>\n",
       "    <tr>\n",
       "      <th>5246</th>\n",
       "      <td>Hey AJ! It's Bedtime!</td>\n",
       "      <td>Family</td>\n",
       "      <td>5.0</td>\n",
       "      <td>1</td>\n",
       "      <td>63.0</td>\n",
       "      <td>10+</td>\n",
       "      <td>Paid</td>\n",
       "      <td>4.99</td>\n",
       "      <td>Everyone</td>\n",
       "      <td>Education</td>\n",
       "      <td>April 4, 2018</td>\n",
       "      <td>1.0.59</td>\n",
       "      <td>2.3 and up</td>\n",
       "    </tr>\n",
       "    <tr>\n",
       "      <th>5482</th>\n",
       "      <td>meStudying: AP English Lit</td>\n",
       "      <td>Family</td>\n",
       "      <td>5.0</td>\n",
       "      <td>1</td>\n",
       "      <td>655.0</td>\n",
       "      <td>10+</td>\n",
       "      <td>Paid</td>\n",
       "      <td>4.99</td>\n",
       "      <td>Everyone</td>\n",
       "      <td>Education</td>\n",
       "      <td>August 31, 2013</td>\n",
       "      <td>1.3</td>\n",
       "      <td>2.0.1 and up</td>\n",
       "    </tr>\n",
       "    <tr>\n",
       "      <th>7204</th>\n",
       "      <td>TI-84 CE Graphing Calculator Manual TI 84</td>\n",
       "      <td>Family</td>\n",
       "      <td>5.0</td>\n",
       "      <td>1</td>\n",
       "      <td>27.0</td>\n",
       "      <td>100+</td>\n",
       "      <td>Paid</td>\n",
       "      <td>4.99</td>\n",
       "      <td>Everyone</td>\n",
       "      <td>Education</td>\n",
       "      <td>March 28, 2018</td>\n",
       "      <td>1.5.2</td>\n",
       "      <td>4.1 and up</td>\n",
       "    </tr>\n",
       "  </tbody>\n",
       "</table>\n",
       "</div>"
      ],
      "text/plain": [
       "                                            App Category  Rating  Reviews  \\\n",
       "5489                  AP Art History Flashcards   Family     5.0        1   \n",
       "7477                 USMLE Step 2 CK Flashcards   Family     5.0        1   \n",
       "5246                      Hey AJ! It's Bedtime!   Family     5.0        1   \n",
       "5482                 meStudying: AP English Lit   Family     5.0        1   \n",
       "7204  TI-84 CE Graphing Calculator Manual TI 84   Family     5.0        1   \n",
       "\n",
       "       Size Installs  Type  Price Content Rating     Genres      Last Updated  \\\n",
       "5489   96.0      10+  Paid  29.99     Mature 17+  Education  January 19, 2016   \n",
       "7477   40.0      10+  Paid  19.99       Everyone  Education      May 26, 2014   \n",
       "5246   63.0      10+  Paid   4.99       Everyone  Education     April 4, 2018   \n",
       "5482  655.0      10+  Paid   4.99       Everyone  Education   August 31, 2013   \n",
       "7204   27.0     100+  Paid   4.99       Everyone  Education    March 28, 2018   \n",
       "\n",
       "     Current Ver   Android Ver  \n",
       "5489        3.30    4.0 and up  \n",
       "7477        2.47    2.2 and up  \n",
       "5246      1.0.59    2.3 and up  \n",
       "5482         1.3  2.0.1 and up  \n",
       "7204       1.5.2    4.1 and up  "
      ]
     },
     "execution_count": 55,
     "metadata": {},
     "output_type": "execute_result"
    }
   ],
   "source": [
    "df[df['Rating'] == df['Rating'].max()].sort_values(by = 'Price', ascending = False).head(5)"
   ]
  },
  {
   "cell_type": "markdown",
   "metadata": {},
   "source": [
    "**Note:** As we saw later the family category is the rich of all in apps, so it's make sense that the most expensive apps from \n",
    "this category."
   ]
  },
  {
   "cell_type": "markdown",
   "metadata": {},
   "source": [
    "**Apps that has more than 50k reviews.**"
   ]
  },
  {
   "cell_type": "code",
   "execution_count": 56,
   "metadata": {
    "execution": {
     "iopub.execute_input": "2022-06-20T18:08:14.79699Z",
     "iopub.status.busy": "2022-06-20T18:08:14.796589Z",
     "iopub.status.idle": "2022-06-20T18:08:14.824922Z",
     "shell.execute_reply": "2022-06-20T18:08:14.824128Z",
     "shell.execute_reply.started": "2022-06-20T18:08:14.796957Z"
    }
   },
   "outputs": [
    {
     "name": "stdout",
     "output_type": "stream",
     "text": [
      "Number of apps that have more than 50k reviews: 2525\n"
     ]
    }
   ],
   "source": [
    "num_apps_50k_reviews = len(df[df['Reviews'] > 50000])\n",
    "print(\"Number of apps that have more than 50k reviews:\", num_apps_50k_reviews)"
   ]
  },
  {
   "cell_type": "code",
   "execution_count": 57,
   "metadata": {},
   "outputs": [],
   "source": [
    "# convert the \"Reviews\" column to integer\n",
    "df['Reviews'] = df['Reviews'].astype(int)\n",
    "\n",
    "# count the number of apps with more than 50k reviews\n",
    "num_apps = len(df[df['Reviews'] > 50000])\n",
    "\n",
    "# create a new DataFrame with the names of apps with more than 50k reviews\n",
    "popular_apps = df[df['Reviews'] > 50000][['App', 'Reviews']]\n"
   ]
  },
  {
   "cell_type": "markdown",
   "metadata": {},
   "source": [
    "**Note:** Facebook the most app that have reviews and that makes sense."
   ]
  },
  {
   "cell_type": "markdown",
   "metadata": {},
   "source": [
    "**The average price of the apps for each genre with each installs numbers.**"
   ]
  },
  {
   "cell_type": "code",
   "execution_count": 58,
   "metadata": {
    "execution": {
     "iopub.execute_input": "2022-06-20T18:08:43.037367Z",
     "iopub.status.busy": "2022-06-20T18:08:43.036915Z",
     "iopub.status.idle": "2022-06-20T18:08:43.111358Z",
     "shell.execute_reply": "2022-06-20T18:08:43.110451Z",
     "shell.execute_reply.started": "2022-06-20T18:08:43.03733Z"
    }
   },
   "outputs": [
    {
     "data": {
      "text/html": [
       "<div>\n",
       "<style scoped>\n",
       "    .dataframe tbody tr th:only-of-type {\n",
       "        vertical-align: middle;\n",
       "    }\n",
       "\n",
       "    .dataframe tbody tr th {\n",
       "        vertical-align: top;\n",
       "    }\n",
       "\n",
       "    .dataframe thead th {\n",
       "        text-align: right;\n",
       "    }\n",
       "</style>\n",
       "<table border=\"1\" class=\"dataframe\">\n",
       "  <thead>\n",
       "    <tr style=\"text-align: right;\">\n",
       "      <th>Installs</th>\n",
       "      <th>0+</th>\n",
       "      <th>1+</th>\n",
       "      <th>1,000+</th>\n",
       "      <th>1,000,000+</th>\n",
       "      <th>1,000,000,000+</th>\n",
       "      <th>10+</th>\n",
       "      <th>10,000+</th>\n",
       "      <th>10,000,000+</th>\n",
       "      <th>100+</th>\n",
       "      <th>100,000+</th>\n",
       "      <th>100,000,000+</th>\n",
       "      <th>5+</th>\n",
       "      <th>5,000+</th>\n",
       "      <th>5,000,000+</th>\n",
       "      <th>50+</th>\n",
       "      <th>50,000+</th>\n",
       "      <th>50,000,000+</th>\n",
       "      <th>500+</th>\n",
       "      <th>500,000+</th>\n",
       "      <th>500,000,000+</th>\n",
       "    </tr>\n",
       "    <tr>\n",
       "      <th>Category</th>\n",
       "      <th></th>\n",
       "      <th></th>\n",
       "      <th></th>\n",
       "      <th></th>\n",
       "      <th></th>\n",
       "      <th></th>\n",
       "      <th></th>\n",
       "      <th></th>\n",
       "      <th></th>\n",
       "      <th></th>\n",
       "      <th></th>\n",
       "      <th></th>\n",
       "      <th></th>\n",
       "      <th></th>\n",
       "      <th></th>\n",
       "      <th></th>\n",
       "      <th></th>\n",
       "      <th></th>\n",
       "      <th></th>\n",
       "      <th></th>\n",
       "    </tr>\n",
       "  </thead>\n",
       "  <tbody>\n",
       "    <tr>\n",
       "      <th>Art_And_Design</th>\n",
       "      <td>0.000</td>\n",
       "      <td>NaN</td>\n",
       "      <td>0.663333</td>\n",
       "      <td>0.000000</td>\n",
       "      <td>NaN</td>\n",
       "      <td>NaN</td>\n",
       "      <td>0.180909</td>\n",
       "      <td>0.000000</td>\n",
       "      <td>0.000000</td>\n",
       "      <td>0.000000</td>\n",
       "      <td>NaN</td>\n",
       "      <td>NaN</td>\n",
       "      <td>0.497500</td>\n",
       "      <td>0.0</td>\n",
       "      <td>NaN</td>\n",
       "      <td>0.000000</td>\n",
       "      <td>0.0</td>\n",
       "      <td>NaN</td>\n",
       "      <td>0.000000</td>\n",
       "      <td>NaN</td>\n",
       "    </tr>\n",
       "    <tr>\n",
       "      <th>Auto_And_Vehicles</th>\n",
       "      <td>NaN</td>\n",
       "      <td>0.000000</td>\n",
       "      <td>0.000000</td>\n",
       "      <td>0.000000</td>\n",
       "      <td>NaN</td>\n",
       "      <td>0.000000</td>\n",
       "      <td>0.000000</td>\n",
       "      <td>0.000000</td>\n",
       "      <td>0.248333</td>\n",
       "      <td>0.000000</td>\n",
       "      <td>NaN</td>\n",
       "      <td>0.000000</td>\n",
       "      <td>0.000000</td>\n",
       "      <td>0.0</td>\n",
       "      <td>9.990000</td>\n",
       "      <td>0.398000</td>\n",
       "      <td>NaN</td>\n",
       "      <td>0.000000</td>\n",
       "      <td>0.000000</td>\n",
       "      <td>NaN</td>\n",
       "    </tr>\n",
       "    <tr>\n",
       "      <th>Beauty</th>\n",
       "      <td>NaN</td>\n",
       "      <td>NaN</td>\n",
       "      <td>0.000000</td>\n",
       "      <td>0.000000</td>\n",
       "      <td>NaN</td>\n",
       "      <td>NaN</td>\n",
       "      <td>0.000000</td>\n",
       "      <td>0.000000</td>\n",
       "      <td>0.000000</td>\n",
       "      <td>0.000000</td>\n",
       "      <td>NaN</td>\n",
       "      <td>NaN</td>\n",
       "      <td>0.000000</td>\n",
       "      <td>0.0</td>\n",
       "      <td>0.000000</td>\n",
       "      <td>0.000000</td>\n",
       "      <td>NaN</td>\n",
       "      <td>0.000000</td>\n",
       "      <td>0.000000</td>\n",
       "      <td>NaN</td>\n",
       "    </tr>\n",
       "    <tr>\n",
       "      <th>Books_And_Reference</th>\n",
       "      <td>NaN</td>\n",
       "      <td>5.990000</td>\n",
       "      <td>0.153636</td>\n",
       "      <td>0.000000</td>\n",
       "      <td>0.0</td>\n",
       "      <td>3.996842</td>\n",
       "      <td>0.179600</td>\n",
       "      <td>0.000000</td>\n",
       "      <td>0.570000</td>\n",
       "      <td>0.000000</td>\n",
       "      <td>0.0</td>\n",
       "      <td>1.852857</td>\n",
       "      <td>0.474375</td>\n",
       "      <td>0.0</td>\n",
       "      <td>0.583333</td>\n",
       "      <td>0.000000</td>\n",
       "      <td>NaN</td>\n",
       "      <td>0.220000</td>\n",
       "      <td>0.000000</td>\n",
       "      <td>NaN</td>\n",
       "    </tr>\n",
       "    <tr>\n",
       "      <th>Business</th>\n",
       "      <td>0.000</td>\n",
       "      <td>0.000000</td>\n",
       "      <td>0.183265</td>\n",
       "      <td>0.000000</td>\n",
       "      <td>NaN</td>\n",
       "      <td>2.201905</td>\n",
       "      <td>0.065000</td>\n",
       "      <td>0.000000</td>\n",
       "      <td>0.432763</td>\n",
       "      <td>0.332667</td>\n",
       "      <td>0.0</td>\n",
       "      <td>0.055000</td>\n",
       "      <td>0.000000</td>\n",
       "      <td>0.0</td>\n",
       "      <td>0.359600</td>\n",
       "      <td>0.000000</td>\n",
       "      <td>0.0</td>\n",
       "      <td>0.782174</td>\n",
       "      <td>0.000000</td>\n",
       "      <td>NaN</td>\n",
       "    </tr>\n",
       "    <tr>\n",
       "      <th>Comics</th>\n",
       "      <td>NaN</td>\n",
       "      <td>NaN</td>\n",
       "      <td>0.000000</td>\n",
       "      <td>0.000000</td>\n",
       "      <td>NaN</td>\n",
       "      <td>NaN</td>\n",
       "      <td>0.000000</td>\n",
       "      <td>0.000000</td>\n",
       "      <td>0.000000</td>\n",
       "      <td>0.000000</td>\n",
       "      <td>NaN</td>\n",
       "      <td>NaN</td>\n",
       "      <td>0.000000</td>\n",
       "      <td>0.0</td>\n",
       "      <td>0.000000</td>\n",
       "      <td>0.000000</td>\n",
       "      <td>NaN</td>\n",
       "      <td>NaN</td>\n",
       "      <td>0.000000</td>\n",
       "      <td>NaN</td>\n",
       "    </tr>\n",
       "    <tr>\n",
       "      <th>Communication</th>\n",
       "      <td>NaN</td>\n",
       "      <td>0.000000</td>\n",
       "      <td>0.294091</td>\n",
       "      <td>0.066444</td>\n",
       "      <td>0.0</td>\n",
       "      <td>1.392105</td>\n",
       "      <td>0.478400</td>\n",
       "      <td>0.000000</td>\n",
       "      <td>0.210606</td>\n",
       "      <td>0.572632</td>\n",
       "      <td>0.0</td>\n",
       "      <td>0.000000</td>\n",
       "      <td>0.393158</td>\n",
       "      <td>0.0</td>\n",
       "      <td>0.000000</td>\n",
       "      <td>0.000000</td>\n",
       "      <td>0.0</td>\n",
       "      <td>0.906364</td>\n",
       "      <td>0.000000</td>\n",
       "      <td>0.0</td>\n",
       "    </tr>\n",
       "    <tr>\n",
       "      <th>Dating</th>\n",
       "      <td>NaN</td>\n",
       "      <td>0.000000</td>\n",
       "      <td>0.537692</td>\n",
       "      <td>0.000000</td>\n",
       "      <td>NaN</td>\n",
       "      <td>0.000000</td>\n",
       "      <td>0.362727</td>\n",
       "      <td>0.000000</td>\n",
       "      <td>0.880588</td>\n",
       "      <td>0.000000</td>\n",
       "      <td>NaN</td>\n",
       "      <td>0.000000</td>\n",
       "      <td>0.000000</td>\n",
       "      <td>0.0</td>\n",
       "      <td>0.248333</td>\n",
       "      <td>0.000000</td>\n",
       "      <td>NaN</td>\n",
       "      <td>0.000000</td>\n",
       "      <td>0.000000</td>\n",
       "      <td>NaN</td>\n",
       "    </tr>\n",
       "    <tr>\n",
       "      <th>Education</th>\n",
       "      <td>NaN</td>\n",
       "      <td>NaN</td>\n",
       "      <td>4.990000</td>\n",
       "      <td>0.000000</td>\n",
       "      <td>NaN</td>\n",
       "      <td>NaN</td>\n",
       "      <td>0.000000</td>\n",
       "      <td>0.000000</td>\n",
       "      <td>NaN</td>\n",
       "      <td>0.190000</td>\n",
       "      <td>0.0</td>\n",
       "      <td>NaN</td>\n",
       "      <td>NaN</td>\n",
       "      <td>0.0</td>\n",
       "      <td>NaN</td>\n",
       "      <td>0.000000</td>\n",
       "      <td>NaN</td>\n",
       "      <td>NaN</td>\n",
       "      <td>0.306923</td>\n",
       "      <td>NaN</td>\n",
       "    </tr>\n",
       "    <tr>\n",
       "      <th>Entertainment</th>\n",
       "      <td>NaN</td>\n",
       "      <td>NaN</td>\n",
       "      <td>NaN</td>\n",
       "      <td>0.000000</td>\n",
       "      <td>0.0</td>\n",
       "      <td>NaN</td>\n",
       "      <td>0.000000</td>\n",
       "      <td>0.000000</td>\n",
       "      <td>NaN</td>\n",
       "      <td>0.725455</td>\n",
       "      <td>0.0</td>\n",
       "      <td>NaN</td>\n",
       "      <td>NaN</td>\n",
       "      <td>0.0</td>\n",
       "      <td>NaN</td>\n",
       "      <td>0.000000</td>\n",
       "      <td>0.0</td>\n",
       "      <td>NaN</td>\n",
       "      <td>0.000000</td>\n",
       "      <td>NaN</td>\n",
       "    </tr>\n",
       "    <tr>\n",
       "      <th>Events</th>\n",
       "      <td>NaN</td>\n",
       "      <td>109.990000</td>\n",
       "      <td>0.000000</td>\n",
       "      <td>0.000000</td>\n",
       "      <td>NaN</td>\n",
       "      <td>0.000000</td>\n",
       "      <td>0.000000</td>\n",
       "      <td>NaN</td>\n",
       "      <td>0.000000</td>\n",
       "      <td>0.000000</td>\n",
       "      <td>NaN</td>\n",
       "      <td>NaN</td>\n",
       "      <td>0.000000</td>\n",
       "      <td>0.0</td>\n",
       "      <td>NaN</td>\n",
       "      <td>0.000000</td>\n",
       "      <td>NaN</td>\n",
       "      <td>0.000000</td>\n",
       "      <td>0.000000</td>\n",
       "      <td>NaN</td>\n",
       "    </tr>\n",
       "    <tr>\n",
       "      <th>Family</th>\n",
       "      <td>2.490</td>\n",
       "      <td>0.846000</td>\n",
       "      <td>0.500093</td>\n",
       "      <td>0.036989</td>\n",
       "      <td>0.0</td>\n",
       "      <td>2.210656</td>\n",
       "      <td>4.080965</td>\n",
       "      <td>0.082722</td>\n",
       "      <td>4.039652</td>\n",
       "      <td>0.499004</td>\n",
       "      <td>0.0</td>\n",
       "      <td>5.997143</td>\n",
       "      <td>4.128333</td>\n",
       "      <td>0.0</td>\n",
       "      <td>0.670000</td>\n",
       "      <td>0.764040</td>\n",
       "      <td>0.0</td>\n",
       "      <td>0.252754</td>\n",
       "      <td>0.146330</td>\n",
       "      <td>0.0</td>\n",
       "    </tr>\n",
       "    <tr>\n",
       "      <th>Finance</th>\n",
       "      <td>212.990</td>\n",
       "      <td>8.745000</td>\n",
       "      <td>30.148750</td>\n",
       "      <td>0.000000</td>\n",
       "      <td>NaN</td>\n",
       "      <td>0.000000</td>\n",
       "      <td>0.318551</td>\n",
       "      <td>0.000000</td>\n",
       "      <td>0.207917</td>\n",
       "      <td>0.083056</td>\n",
       "      <td>0.0</td>\n",
       "      <td>NaN</td>\n",
       "      <td>36.362727</td>\n",
       "      <td>0.0</td>\n",
       "      <td>0.000000</td>\n",
       "      <td>22.221667</td>\n",
       "      <td>0.0</td>\n",
       "      <td>0.332500</td>\n",
       "      <td>0.000000</td>\n",
       "      <td>NaN</td>\n",
       "    </tr>\n",
       "    <tr>\n",
       "      <th>Food_And_Drink</th>\n",
       "      <td>NaN</td>\n",
       "      <td>0.000000</td>\n",
       "      <td>0.000000</td>\n",
       "      <td>0.000000</td>\n",
       "      <td>NaN</td>\n",
       "      <td>0.000000</td>\n",
       "      <td>0.387778</td>\n",
       "      <td>0.000000</td>\n",
       "      <td>0.000000</td>\n",
       "      <td>0.000000</td>\n",
       "      <td>NaN</td>\n",
       "      <td>0.000000</td>\n",
       "      <td>0.000000</td>\n",
       "      <td>0.0</td>\n",
       "      <td>0.000000</td>\n",
       "      <td>0.623750</td>\n",
       "      <td>NaN</td>\n",
       "      <td>0.000000</td>\n",
       "      <td>0.000000</td>\n",
       "      <td>NaN</td>\n",
       "    </tr>\n",
       "    <tr>\n",
       "      <th>Game</th>\n",
       "      <td>NaN</td>\n",
       "      <td>1.090000</td>\n",
       "      <td>0.812250</td>\n",
       "      <td>0.121463</td>\n",
       "      <td>0.0</td>\n",
       "      <td>0.066000</td>\n",
       "      <td>1.185625</td>\n",
       "      <td>0.004459</td>\n",
       "      <td>1.163704</td>\n",
       "      <td>0.759115</td>\n",
       "      <td>0.0</td>\n",
       "      <td>0.000000</td>\n",
       "      <td>0.586471</td>\n",
       "      <td>0.0</td>\n",
       "      <td>0.180909</td>\n",
       "      <td>0.383333</td>\n",
       "      <td>0.0</td>\n",
       "      <td>0.456667</td>\n",
       "      <td>0.032097</td>\n",
       "      <td>0.0</td>\n",
       "    </tr>\n",
       "    <tr>\n",
       "      <th>Health_And_Fitness</th>\n",
       "      <td>NaN</td>\n",
       "      <td>0.000000</td>\n",
       "      <td>0.950476</td>\n",
       "      <td>0.000000</td>\n",
       "      <td>NaN</td>\n",
       "      <td>0.066000</td>\n",
       "      <td>0.645882</td>\n",
       "      <td>0.000000</td>\n",
       "      <td>0.000000</td>\n",
       "      <td>0.305484</td>\n",
       "      <td>0.0</td>\n",
       "      <td>0.000000</td>\n",
       "      <td>0.000000</td>\n",
       "      <td>0.0</td>\n",
       "      <td>1.452727</td>\n",
       "      <td>0.497857</td>\n",
       "      <td>0.0</td>\n",
       "      <td>0.000000</td>\n",
       "      <td>0.000000</td>\n",
       "      <td>0.0</td>\n",
       "    </tr>\n",
       "    <tr>\n",
       "      <th>House_And_Home</th>\n",
       "      <td>NaN</td>\n",
       "      <td>0.000000</td>\n",
       "      <td>0.000000</td>\n",
       "      <td>0.000000</td>\n",
       "      <td>NaN</td>\n",
       "      <td>0.000000</td>\n",
       "      <td>0.000000</td>\n",
       "      <td>0.000000</td>\n",
       "      <td>0.000000</td>\n",
       "      <td>0.000000</td>\n",
       "      <td>NaN</td>\n",
       "      <td>NaN</td>\n",
       "      <td>0.000000</td>\n",
       "      <td>0.0</td>\n",
       "      <td>0.000000</td>\n",
       "      <td>0.000000</td>\n",
       "      <td>NaN</td>\n",
       "      <td>NaN</td>\n",
       "      <td>0.000000</td>\n",
       "      <td>NaN</td>\n",
       "    </tr>\n",
       "    <tr>\n",
       "      <th>Libraries_And_Demo</th>\n",
       "      <td>NaN</td>\n",
       "      <td>NaN</td>\n",
       "      <td>0.000000</td>\n",
       "      <td>0.000000</td>\n",
       "      <td>NaN</td>\n",
       "      <td>0.000000</td>\n",
       "      <td>0.000000</td>\n",
       "      <td>0.000000</td>\n",
       "      <td>0.247500</td>\n",
       "      <td>0.000000</td>\n",
       "      <td>NaN</td>\n",
       "      <td>NaN</td>\n",
       "      <td>0.000000</td>\n",
       "      <td>0.0</td>\n",
       "      <td>NaN</td>\n",
       "      <td>0.000000</td>\n",
       "      <td>NaN</td>\n",
       "      <td>0.000000</td>\n",
       "      <td>0.000000</td>\n",
       "      <td>NaN</td>\n",
       "    </tr>\n",
       "    <tr>\n",
       "      <th>Lifestyle</th>\n",
       "      <td>399.990</td>\n",
       "      <td>0.000000</td>\n",
       "      <td>9.726364</td>\n",
       "      <td>0.133111</td>\n",
       "      <td>NaN</td>\n",
       "      <td>0.168889</td>\n",
       "      <td>28.473333</td>\n",
       "      <td>0.000000</td>\n",
       "      <td>0.026053</td>\n",
       "      <td>10.256154</td>\n",
       "      <td>0.0</td>\n",
       "      <td>0.000000</td>\n",
       "      <td>0.498000</td>\n",
       "      <td>0.0</td>\n",
       "      <td>0.000000</td>\n",
       "      <td>0.000000</td>\n",
       "      <td>0.0</td>\n",
       "      <td>0.000000</td>\n",
       "      <td>0.000000</td>\n",
       "      <td>NaN</td>\n",
       "    </tr>\n",
       "    <tr>\n",
       "      <th>Maps_And_Navigation</th>\n",
       "      <td>NaN</td>\n",
       "      <td>NaN</td>\n",
       "      <td>0.066000</td>\n",
       "      <td>0.000000</td>\n",
       "      <td>NaN</td>\n",
       "      <td>0.000000</td>\n",
       "      <td>0.234118</td>\n",
       "      <td>0.000000</td>\n",
       "      <td>1.248750</td>\n",
       "      <td>0.922308</td>\n",
       "      <td>0.0</td>\n",
       "      <td>NaN</td>\n",
       "      <td>0.000000</td>\n",
       "      <td>0.0</td>\n",
       "      <td>0.000000</td>\n",
       "      <td>0.000000</td>\n",
       "      <td>0.0</td>\n",
       "      <td>0.000000</td>\n",
       "      <td>0.000000</td>\n",
       "      <td>NaN</td>\n",
       "    </tr>\n",
       "    <tr>\n",
       "      <th>Medical</th>\n",
       "      <td>200.000</td>\n",
       "      <td>1.138571</td>\n",
       "      <td>6.192727</td>\n",
       "      <td>0.000000</td>\n",
       "      <td>NaN</td>\n",
       "      <td>0.356071</td>\n",
       "      <td>1.667500</td>\n",
       "      <td>NaN</td>\n",
       "      <td>2.194643</td>\n",
       "      <td>1.310667</td>\n",
       "      <td>NaN</td>\n",
       "      <td>0.000000</td>\n",
       "      <td>1.481250</td>\n",
       "      <td>0.0</td>\n",
       "      <td>0.718400</td>\n",
       "      <td>0.677500</td>\n",
       "      <td>NaN</td>\n",
       "      <td>1.565455</td>\n",
       "      <td>0.000000</td>\n",
       "      <td>NaN</td>\n",
       "    </tr>\n",
       "    <tr>\n",
       "      <th>News_And_Magazines</th>\n",
       "      <td>0.000</td>\n",
       "      <td>NaN</td>\n",
       "      <td>0.000000</td>\n",
       "      <td>0.000000</td>\n",
       "      <td>0.0</td>\n",
       "      <td>0.000000</td>\n",
       "      <td>0.000000</td>\n",
       "      <td>0.000000</td>\n",
       "      <td>0.000000</td>\n",
       "      <td>0.000000</td>\n",
       "      <td>NaN</td>\n",
       "      <td>0.000000</td>\n",
       "      <td>0.058235</td>\n",
       "      <td>0.0</td>\n",
       "      <td>0.000000</td>\n",
       "      <td>0.000000</td>\n",
       "      <td>0.0</td>\n",
       "      <td>0.498333</td>\n",
       "      <td>0.000000</td>\n",
       "      <td>0.0</td>\n",
       "    </tr>\n",
       "    <tr>\n",
       "      <th>Parenting</th>\n",
       "      <td>NaN</td>\n",
       "      <td>NaN</td>\n",
       "      <td>0.000000</td>\n",
       "      <td>0.000000</td>\n",
       "      <td>NaN</td>\n",
       "      <td>0.000000</td>\n",
       "      <td>0.000000</td>\n",
       "      <td>0.000000</td>\n",
       "      <td>4.590000</td>\n",
       "      <td>0.000000</td>\n",
       "      <td>NaN</td>\n",
       "      <td>NaN</td>\n",
       "      <td>0.000000</td>\n",
       "      <td>0.0</td>\n",
       "      <td>NaN</td>\n",
       "      <td>0.998000</td>\n",
       "      <td>NaN</td>\n",
       "      <td>NaN</td>\n",
       "      <td>0.000000</td>\n",
       "      <td>NaN</td>\n",
       "    </tr>\n",
       "    <tr>\n",
       "      <th>Personalization</th>\n",
       "      <td>1.490</td>\n",
       "      <td>0.708571</td>\n",
       "      <td>0.690000</td>\n",
       "      <td>0.097174</td>\n",
       "      <td>NaN</td>\n",
       "      <td>0.472381</td>\n",
       "      <td>0.575111</td>\n",
       "      <td>0.000000</td>\n",
       "      <td>0.410000</td>\n",
       "      <td>0.572222</td>\n",
       "      <td>0.0</td>\n",
       "      <td>0.826667</td>\n",
       "      <td>0.716250</td>\n",
       "      <td>0.0</td>\n",
       "      <td>1.311111</td>\n",
       "      <td>0.248571</td>\n",
       "      <td>0.0</td>\n",
       "      <td>0.596667</td>\n",
       "      <td>0.131053</td>\n",
       "      <td>NaN</td>\n",
       "    </tr>\n",
       "    <tr>\n",
       "      <th>Photography</th>\n",
       "      <td>NaN</td>\n",
       "      <td>NaN</td>\n",
       "      <td>1.831667</td>\n",
       "      <td>0.115192</td>\n",
       "      <td>0.0</td>\n",
       "      <td>8.094000</td>\n",
       "      <td>0.465333</td>\n",
       "      <td>0.000000</td>\n",
       "      <td>0.932000</td>\n",
       "      <td>0.562727</td>\n",
       "      <td>0.0</td>\n",
       "      <td>0.000000</td>\n",
       "      <td>0.598000</td>\n",
       "      <td>0.0</td>\n",
       "      <td>0.000000</td>\n",
       "      <td>0.284286</td>\n",
       "      <td>0.0</td>\n",
       "      <td>0.248333</td>\n",
       "      <td>0.230000</td>\n",
       "      <td>NaN</td>\n",
       "    </tr>\n",
       "    <tr>\n",
       "      <th>Productivity</th>\n",
       "      <td>154.990</td>\n",
       "      <td>0.000000</td>\n",
       "      <td>0.744000</td>\n",
       "      <td>0.000000</td>\n",
       "      <td>0.0</td>\n",
       "      <td>0.438000</td>\n",
       "      <td>0.000000</td>\n",
       "      <td>0.000000</td>\n",
       "      <td>0.441714</td>\n",
       "      <td>0.455000</td>\n",
       "      <td>0.0</td>\n",
       "      <td>0.330000</td>\n",
       "      <td>0.306923</td>\n",
       "      <td>0.0</td>\n",
       "      <td>0.382500</td>\n",
       "      <td>0.248889</td>\n",
       "      <td>0.0</td>\n",
       "      <td>0.642143</td>\n",
       "      <td>0.332000</td>\n",
       "      <td>0.0</td>\n",
       "    </tr>\n",
       "    <tr>\n",
       "      <th>Shopping</th>\n",
       "      <td>NaN</td>\n",
       "      <td>NaN</td>\n",
       "      <td>0.000000</td>\n",
       "      <td>0.000000</td>\n",
       "      <td>NaN</td>\n",
       "      <td>0.000000</td>\n",
       "      <td>0.271818</td>\n",
       "      <td>0.000000</td>\n",
       "      <td>0.207500</td>\n",
       "      <td>0.000000</td>\n",
       "      <td>0.0</td>\n",
       "      <td>0.000000</td>\n",
       "      <td>0.000000</td>\n",
       "      <td>0.0</td>\n",
       "      <td>NaN</td>\n",
       "      <td>0.000000</td>\n",
       "      <td>0.0</td>\n",
       "      <td>0.000000</td>\n",
       "      <td>0.000000</td>\n",
       "      <td>NaN</td>\n",
       "    </tr>\n",
       "    <tr>\n",
       "      <th>Social</th>\n",
       "      <td>6.995</td>\n",
       "      <td>0.000000</td>\n",
       "      <td>0.043043</td>\n",
       "      <td>0.000000</td>\n",
       "      <td>0.0</td>\n",
       "      <td>0.000000</td>\n",
       "      <td>0.000000</td>\n",
       "      <td>0.000000</td>\n",
       "      <td>0.000000</td>\n",
       "      <td>0.000000</td>\n",
       "      <td>0.0</td>\n",
       "      <td>0.000000</td>\n",
       "      <td>0.082500</td>\n",
       "      <td>0.0</td>\n",
       "      <td>0.000000</td>\n",
       "      <td>0.000000</td>\n",
       "      <td>0.0</td>\n",
       "      <td>0.000000</td>\n",
       "      <td>0.000000</td>\n",
       "      <td>0.0</td>\n",
       "    </tr>\n",
       "    <tr>\n",
       "      <th>Sports</th>\n",
       "      <td>NaN</td>\n",
       "      <td>0.000000</td>\n",
       "      <td>0.950909</td>\n",
       "      <td>0.043261</td>\n",
       "      <td>NaN</td>\n",
       "      <td>0.240000</td>\n",
       "      <td>0.146765</td>\n",
       "      <td>0.000000</td>\n",
       "      <td>0.432917</td>\n",
       "      <td>0.230513</td>\n",
       "      <td>0.0</td>\n",
       "      <td>0.221111</td>\n",
       "      <td>0.814545</td>\n",
       "      <td>0.0</td>\n",
       "      <td>0.000000</td>\n",
       "      <td>2.265333</td>\n",
       "      <td>0.0</td>\n",
       "      <td>0.332222</td>\n",
       "      <td>0.000000</td>\n",
       "      <td>NaN</td>\n",
       "    </tr>\n",
       "    <tr>\n",
       "      <th>Tools</th>\n",
       "      <td>NaN</td>\n",
       "      <td>0.298000</td>\n",
       "      <td>0.589878</td>\n",
       "      <td>0.029604</td>\n",
       "      <td>0.0</td>\n",
       "      <td>1.275185</td>\n",
       "      <td>0.430900</td>\n",
       "      <td>0.000000</td>\n",
       "      <td>0.701481</td>\n",
       "      <td>0.146061</td>\n",
       "      <td>0.0</td>\n",
       "      <td>1.663333</td>\n",
       "      <td>0.903962</td>\n",
       "      <td>0.0</td>\n",
       "      <td>0.481429</td>\n",
       "      <td>0.119600</td>\n",
       "      <td>0.0</td>\n",
       "      <td>0.349730</td>\n",
       "      <td>0.000000</td>\n",
       "      <td>0.0</td>\n",
       "    </tr>\n",
       "    <tr>\n",
       "      <th>Travel_And_Local</th>\n",
       "      <td>3.990</td>\n",
       "      <td>0.000000</td>\n",
       "      <td>0.566957</td>\n",
       "      <td>0.000000</td>\n",
       "      <td>0.0</td>\n",
       "      <td>0.496667</td>\n",
       "      <td>0.257419</td>\n",
       "      <td>0.000000</td>\n",
       "      <td>0.000000</td>\n",
       "      <td>0.528824</td>\n",
       "      <td>0.0</td>\n",
       "      <td>0.000000</td>\n",
       "      <td>0.698000</td>\n",
       "      <td>0.0</td>\n",
       "      <td>2.495000</td>\n",
       "      <td>0.415000</td>\n",
       "      <td>0.0</td>\n",
       "      <td>0.000000</td>\n",
       "      <td>0.000000</td>\n",
       "      <td>NaN</td>\n",
       "    </tr>\n",
       "    <tr>\n",
       "      <th>Video_Players</th>\n",
       "      <td>NaN</td>\n",
       "      <td>NaN</td>\n",
       "      <td>0.110000</td>\n",
       "      <td>0.000000</td>\n",
       "      <td>0.0</td>\n",
       "      <td>0.000000</td>\n",
       "      <td>0.204706</td>\n",
       "      <td>0.000000</td>\n",
       "      <td>0.000000</td>\n",
       "      <td>0.000000</td>\n",
       "      <td>0.0</td>\n",
       "      <td>NaN</td>\n",
       "      <td>0.000000</td>\n",
       "      <td>0.0</td>\n",
       "      <td>NaN</td>\n",
       "      <td>0.855714</td>\n",
       "      <td>0.0</td>\n",
       "      <td>0.000000</td>\n",
       "      <td>0.000000</td>\n",
       "      <td>0.0</td>\n",
       "    </tr>\n",
       "    <tr>\n",
       "      <th>Weather</th>\n",
       "      <td>NaN</td>\n",
       "      <td>NaN</td>\n",
       "      <td>1.747500</td>\n",
       "      <td>0.000000</td>\n",
       "      <td>NaN</td>\n",
       "      <td>0.000000</td>\n",
       "      <td>0.747500</td>\n",
       "      <td>0.000000</td>\n",
       "      <td>NaN</td>\n",
       "      <td>0.764667</td>\n",
       "      <td>NaN</td>\n",
       "      <td>NaN</td>\n",
       "      <td>0.000000</td>\n",
       "      <td>0.0</td>\n",
       "      <td>NaN</td>\n",
       "      <td>0.000000</td>\n",
       "      <td>0.0</td>\n",
       "      <td>1.660000</td>\n",
       "      <td>0.855714</td>\n",
       "      <td>NaN</td>\n",
       "    </tr>\n",
       "  </tbody>\n",
       "</table>\n",
       "</div>"
      ],
      "text/plain": [
       "Installs                  0+          1+     1,000+  1,000,000+  \\\n",
       "Category                                                          \n",
       "Art_And_Design         0.000         NaN   0.663333    0.000000   \n",
       "Auto_And_Vehicles        NaN    0.000000   0.000000    0.000000   \n",
       "Beauty                   NaN         NaN   0.000000    0.000000   \n",
       "Books_And_Reference      NaN    5.990000   0.153636    0.000000   \n",
       "Business               0.000    0.000000   0.183265    0.000000   \n",
       "Comics                   NaN         NaN   0.000000    0.000000   \n",
       "Communication            NaN    0.000000   0.294091    0.066444   \n",
       "Dating                   NaN    0.000000   0.537692    0.000000   \n",
       "Education                NaN         NaN   4.990000    0.000000   \n",
       "Entertainment            NaN         NaN        NaN    0.000000   \n",
       "Events                   NaN  109.990000   0.000000    0.000000   \n",
       "Family                 2.490    0.846000   0.500093    0.036989   \n",
       "Finance              212.990    8.745000  30.148750    0.000000   \n",
       "Food_And_Drink           NaN    0.000000   0.000000    0.000000   \n",
       "Game                     NaN    1.090000   0.812250    0.121463   \n",
       "Health_And_Fitness       NaN    0.000000   0.950476    0.000000   \n",
       "House_And_Home           NaN    0.000000   0.000000    0.000000   \n",
       "Libraries_And_Demo       NaN         NaN   0.000000    0.000000   \n",
       "Lifestyle            399.990    0.000000   9.726364    0.133111   \n",
       "Maps_And_Navigation      NaN         NaN   0.066000    0.000000   \n",
       "Medical              200.000    1.138571   6.192727    0.000000   \n",
       "News_And_Magazines     0.000         NaN   0.000000    0.000000   \n",
       "Parenting                NaN         NaN   0.000000    0.000000   \n",
       "Personalization        1.490    0.708571   0.690000    0.097174   \n",
       "Photography              NaN         NaN   1.831667    0.115192   \n",
       "Productivity         154.990    0.000000   0.744000    0.000000   \n",
       "Shopping                 NaN         NaN   0.000000    0.000000   \n",
       "Social                 6.995    0.000000   0.043043    0.000000   \n",
       "Sports                   NaN    0.000000   0.950909    0.043261   \n",
       "Tools                    NaN    0.298000   0.589878    0.029604   \n",
       "Travel_And_Local       3.990    0.000000   0.566957    0.000000   \n",
       "Video_Players            NaN         NaN   0.110000    0.000000   \n",
       "Weather                  NaN         NaN   1.747500    0.000000   \n",
       "\n",
       "Installs             1,000,000,000+       10+    10,000+  10,000,000+  \\\n",
       "Category                                                                \n",
       "Art_And_Design                  NaN       NaN   0.180909     0.000000   \n",
       "Auto_And_Vehicles               NaN  0.000000   0.000000     0.000000   \n",
       "Beauty                          NaN       NaN   0.000000     0.000000   \n",
       "Books_And_Reference             0.0  3.996842   0.179600     0.000000   \n",
       "Business                        NaN  2.201905   0.065000     0.000000   \n",
       "Comics                          NaN       NaN   0.000000     0.000000   \n",
       "Communication                   0.0  1.392105   0.478400     0.000000   \n",
       "Dating                          NaN  0.000000   0.362727     0.000000   \n",
       "Education                       NaN       NaN   0.000000     0.000000   \n",
       "Entertainment                   0.0       NaN   0.000000     0.000000   \n",
       "Events                          NaN  0.000000   0.000000          NaN   \n",
       "Family                          0.0  2.210656   4.080965     0.082722   \n",
       "Finance                         NaN  0.000000   0.318551     0.000000   \n",
       "Food_And_Drink                  NaN  0.000000   0.387778     0.000000   \n",
       "Game                            0.0  0.066000   1.185625     0.004459   \n",
       "Health_And_Fitness              NaN  0.066000   0.645882     0.000000   \n",
       "House_And_Home                  NaN  0.000000   0.000000     0.000000   \n",
       "Libraries_And_Demo              NaN  0.000000   0.000000     0.000000   \n",
       "Lifestyle                       NaN  0.168889  28.473333     0.000000   \n",
       "Maps_And_Navigation             NaN  0.000000   0.234118     0.000000   \n",
       "Medical                         NaN  0.356071   1.667500          NaN   \n",
       "News_And_Magazines              0.0  0.000000   0.000000     0.000000   \n",
       "Parenting                       NaN  0.000000   0.000000     0.000000   \n",
       "Personalization                 NaN  0.472381   0.575111     0.000000   \n",
       "Photography                     0.0  8.094000   0.465333     0.000000   \n",
       "Productivity                    0.0  0.438000   0.000000     0.000000   \n",
       "Shopping                        NaN  0.000000   0.271818     0.000000   \n",
       "Social                          0.0  0.000000   0.000000     0.000000   \n",
       "Sports                          NaN  0.240000   0.146765     0.000000   \n",
       "Tools                           0.0  1.275185   0.430900     0.000000   \n",
       "Travel_And_Local                0.0  0.496667   0.257419     0.000000   \n",
       "Video_Players                   0.0  0.000000   0.204706     0.000000   \n",
       "Weather                         NaN  0.000000   0.747500     0.000000   \n",
       "\n",
       "Installs                 100+   100,000+  100,000,000+        5+     5,000+  \\\n",
       "Category                                                                      \n",
       "Art_And_Design       0.000000   0.000000           NaN       NaN   0.497500   \n",
       "Auto_And_Vehicles    0.248333   0.000000           NaN  0.000000   0.000000   \n",
       "Beauty               0.000000   0.000000           NaN       NaN   0.000000   \n",
       "Books_And_Reference  0.570000   0.000000           0.0  1.852857   0.474375   \n",
       "Business             0.432763   0.332667           0.0  0.055000   0.000000   \n",
       "Comics               0.000000   0.000000           NaN       NaN   0.000000   \n",
       "Communication        0.210606   0.572632           0.0  0.000000   0.393158   \n",
       "Dating               0.880588   0.000000           NaN  0.000000   0.000000   \n",
       "Education                 NaN   0.190000           0.0       NaN        NaN   \n",
       "Entertainment             NaN   0.725455           0.0       NaN        NaN   \n",
       "Events               0.000000   0.000000           NaN       NaN   0.000000   \n",
       "Family               4.039652   0.499004           0.0  5.997143   4.128333   \n",
       "Finance              0.207917   0.083056           0.0       NaN  36.362727   \n",
       "Food_And_Drink       0.000000   0.000000           NaN  0.000000   0.000000   \n",
       "Game                 1.163704   0.759115           0.0  0.000000   0.586471   \n",
       "Health_And_Fitness   0.000000   0.305484           0.0  0.000000   0.000000   \n",
       "House_And_Home       0.000000   0.000000           NaN       NaN   0.000000   \n",
       "Libraries_And_Demo   0.247500   0.000000           NaN       NaN   0.000000   \n",
       "Lifestyle            0.026053  10.256154           0.0  0.000000   0.498000   \n",
       "Maps_And_Navigation  1.248750   0.922308           0.0       NaN   0.000000   \n",
       "Medical              2.194643   1.310667           NaN  0.000000   1.481250   \n",
       "News_And_Magazines   0.000000   0.000000           NaN  0.000000   0.058235   \n",
       "Parenting            4.590000   0.000000           NaN       NaN   0.000000   \n",
       "Personalization      0.410000   0.572222           0.0  0.826667   0.716250   \n",
       "Photography          0.932000   0.562727           0.0  0.000000   0.598000   \n",
       "Productivity         0.441714   0.455000           0.0  0.330000   0.306923   \n",
       "Shopping             0.207500   0.000000           0.0  0.000000   0.000000   \n",
       "Social               0.000000   0.000000           0.0  0.000000   0.082500   \n",
       "Sports               0.432917   0.230513           0.0  0.221111   0.814545   \n",
       "Tools                0.701481   0.146061           0.0  1.663333   0.903962   \n",
       "Travel_And_Local     0.000000   0.528824           0.0  0.000000   0.698000   \n",
       "Video_Players        0.000000   0.000000           0.0       NaN   0.000000   \n",
       "Weather                   NaN   0.764667           NaN       NaN   0.000000   \n",
       "\n",
       "Installs             5,000,000+       50+    50,000+  50,000,000+      500+  \\\n",
       "Category                                                                      \n",
       "Art_And_Design              0.0       NaN   0.000000          0.0       NaN   \n",
       "Auto_And_Vehicles           0.0  9.990000   0.398000          NaN  0.000000   \n",
       "Beauty                      0.0  0.000000   0.000000          NaN  0.000000   \n",
       "Books_And_Reference         0.0  0.583333   0.000000          NaN  0.220000   \n",
       "Business                    0.0  0.359600   0.000000          0.0  0.782174   \n",
       "Comics                      0.0  0.000000   0.000000          NaN       NaN   \n",
       "Communication               0.0  0.000000   0.000000          0.0  0.906364   \n",
       "Dating                      0.0  0.248333   0.000000          NaN  0.000000   \n",
       "Education                   0.0       NaN   0.000000          NaN       NaN   \n",
       "Entertainment               0.0       NaN   0.000000          0.0       NaN   \n",
       "Events                      0.0       NaN   0.000000          NaN  0.000000   \n",
       "Family                      0.0  0.670000   0.764040          0.0  0.252754   \n",
       "Finance                     0.0  0.000000  22.221667          0.0  0.332500   \n",
       "Food_And_Drink              0.0  0.000000   0.623750          NaN  0.000000   \n",
       "Game                        0.0  0.180909   0.383333          0.0  0.456667   \n",
       "Health_And_Fitness          0.0  1.452727   0.497857          0.0  0.000000   \n",
       "House_And_Home              0.0  0.000000   0.000000          NaN       NaN   \n",
       "Libraries_And_Demo          0.0       NaN   0.000000          NaN  0.000000   \n",
       "Lifestyle                   0.0  0.000000   0.000000          0.0  0.000000   \n",
       "Maps_And_Navigation         0.0  0.000000   0.000000          0.0  0.000000   \n",
       "Medical                     0.0  0.718400   0.677500          NaN  1.565455   \n",
       "News_And_Magazines          0.0  0.000000   0.000000          0.0  0.498333   \n",
       "Parenting                   0.0       NaN   0.998000          NaN       NaN   \n",
       "Personalization             0.0  1.311111   0.248571          0.0  0.596667   \n",
       "Photography                 0.0  0.000000   0.284286          0.0  0.248333   \n",
       "Productivity                0.0  0.382500   0.248889          0.0  0.642143   \n",
       "Shopping                    0.0       NaN   0.000000          0.0  0.000000   \n",
       "Social                      0.0  0.000000   0.000000          0.0  0.000000   \n",
       "Sports                      0.0  0.000000   2.265333          0.0  0.332222   \n",
       "Tools                       0.0  0.481429   0.119600          0.0  0.349730   \n",
       "Travel_And_Local            0.0  2.495000   0.415000          0.0  0.000000   \n",
       "Video_Players               0.0       NaN   0.855714          0.0  0.000000   \n",
       "Weather                     0.0       NaN   0.000000          0.0  1.660000   \n",
       "\n",
       "Installs             500,000+  500,000,000+  \n",
       "Category                                     \n",
       "Art_And_Design       0.000000           NaN  \n",
       "Auto_And_Vehicles    0.000000           NaN  \n",
       "Beauty               0.000000           NaN  \n",
       "Books_And_Reference  0.000000           NaN  \n",
       "Business             0.000000           NaN  \n",
       "Comics               0.000000           NaN  \n",
       "Communication        0.000000           0.0  \n",
       "Dating               0.000000           NaN  \n",
       "Education            0.306923           NaN  \n",
       "Entertainment        0.000000           NaN  \n",
       "Events               0.000000           NaN  \n",
       "Family               0.146330           0.0  \n",
       "Finance              0.000000           NaN  \n",
       "Food_And_Drink       0.000000           NaN  \n",
       "Game                 0.032097           0.0  \n",
       "Health_And_Fitness   0.000000           0.0  \n",
       "House_And_Home       0.000000           NaN  \n",
       "Libraries_And_Demo   0.000000           NaN  \n",
       "Lifestyle            0.000000           NaN  \n",
       "Maps_And_Navigation  0.000000           NaN  \n",
       "Medical              0.000000           NaN  \n",
       "News_And_Magazines   0.000000           0.0  \n",
       "Parenting            0.000000           NaN  \n",
       "Personalization      0.131053           NaN  \n",
       "Photography          0.230000           NaN  \n",
       "Productivity         0.332000           0.0  \n",
       "Shopping             0.000000           NaN  \n",
       "Social               0.000000           0.0  \n",
       "Sports               0.000000           NaN  \n",
       "Tools                0.000000           0.0  \n",
       "Travel_And_Local     0.000000           NaN  \n",
       "Video_Players        0.000000           0.0  \n",
       "Weather              0.855714           NaN  "
      ]
     },
     "execution_count": 58,
     "metadata": {},
     "output_type": "execute_result"
    }
   ],
   "source": [
    "pd.pivot_table(data = df, index = 'Category', columns = 'Installs', values = 'Price', aggfunc=np.mean)"
   ]
  },
  {
   "cell_type": "markdown",
   "metadata": {},
   "source": [
    "**Note:** We can analyze one of installs or categories from the table depending on client's order."
   ]
  },
  {
   "cell_type": "markdown",
   "metadata": {},
   "source": [
    "**Apps have ratting > 4.5 and what is their average price.**"
   ]
  },
  {
   "cell_type": "code",
   "execution_count": 59,
   "metadata": {
    "execution": {
     "iopub.execute_input": "2022-06-20T18:09:05.221468Z",
     "iopub.status.busy": "2022-06-20T18:09:05.221035Z",
     "iopub.status.idle": "2022-06-20T18:09:05.228446Z",
     "shell.execute_reply": "2022-06-20T18:09:05.227574Z",
     "shell.execute_reply.started": "2022-06-20T18:09:05.221435Z"
    }
   },
   "outputs": [
    {
     "name": "stdout",
     "output_type": "stream",
     "text": [
      "Count is:  1838\n",
      "Average price:  0.47414036996735653\n"
     ]
    }
   ],
   "source": [
    "sup_df = df[df['Rating'] > 4.5]\n",
    "print(\"Count is: \", len(sup_df))\n",
    "print(\"Average price: \", sup_df['Price'].mean())"
   ]
  },
  {
   "cell_type": "markdown",
   "metadata": {},
   "source": [
    "**Google earned from the 5,000,000+ installed apps.**"
   ]
  },
  {
   "cell_type": "code",
   "execution_count": 60,
   "metadata": {
    "execution": {
     "iopub.execute_input": "2022-06-20T18:09:24.634562Z",
     "iopub.status.busy": "2022-06-20T18:09:24.634067Z",
     "iopub.status.idle": "2022-06-20T18:09:24.645699Z",
     "shell.execute_reply": "2022-06-20T18:09:24.644615Z",
     "shell.execute_reply.started": "2022-06-20T18:09:24.634525Z"
    }
   },
   "outputs": [
    {
     "data": {
      "text/plain": [
       "0.0"
      ]
     },
     "execution_count": 60,
     "metadata": {},
     "output_type": "execute_result"
    }
   ],
   "source": [
    "df[df['Installs'] == '5,000,000+']['Price'].sum()"
   ]
  },
  {
   "cell_type": "markdown",
   "metadata": {},
   "source": [
    "**Note:** That means there is no paid apps in this 5,000,000+ installs."
   ]
  },
  {
   "cell_type": "markdown",
   "metadata": {},
   "source": [
    "**The max and min size of free & paid apps.**"
   ]
  },
  {
   "cell_type": "code",
   "execution_count": 61,
   "metadata": {
    "execution": {
     "iopub.execute_input": "2022-06-20T18:09:44.546314Z",
     "iopub.status.busy": "2022-06-20T18:09:44.54587Z",
     "iopub.status.idle": "2022-06-20T18:09:44.572271Z",
     "shell.execute_reply": "2022-06-20T18:09:44.571618Z",
     "shell.execute_reply.started": "2022-06-20T18:09:44.546279Z"
    }
   },
   "outputs": [
    {
     "data": {
      "text/html": [
       "<div>\n",
       "<style scoped>\n",
       "    .dataframe tbody tr th:only-of-type {\n",
       "        vertical-align: middle;\n",
       "    }\n",
       "\n",
       "    .dataframe tbody tr th {\n",
       "        vertical-align: top;\n",
       "    }\n",
       "\n",
       "    .dataframe thead th {\n",
       "        text-align: right;\n",
       "    }\n",
       "</style>\n",
       "<table border=\"1\" class=\"dataframe\">\n",
       "  <thead>\n",
       "    <tr style=\"text-align: right;\">\n",
       "      <th></th>\n",
       "      <th>App</th>\n",
       "      <th>Category</th>\n",
       "      <th>Rating</th>\n",
       "      <th>Reviews</th>\n",
       "      <th>Size</th>\n",
       "      <th>Installs</th>\n",
       "      <th>Type</th>\n",
       "      <th>Price</th>\n",
       "      <th>Content Rating</th>\n",
       "      <th>Genres</th>\n",
       "      <th>Last Updated</th>\n",
       "      <th>Current Ver</th>\n",
       "      <th>Android Ver</th>\n",
       "    </tr>\n",
       "  </thead>\n",
       "  <tbody>\n",
       "    <tr>\n",
       "      <th>8883</th>\n",
       "      <td>DTPay</td>\n",
       "      <td>Shopping</td>\n",
       "      <td>4.5</td>\n",
       "      <td>18</td>\n",
       "      <td>994.0</td>\n",
       "      <td>1,000+</td>\n",
       "      <td>Free</td>\n",
       "      <td>0.0</td>\n",
       "      <td>Everyone</td>\n",
       "      <td>Shopping</td>\n",
       "      <td>July 11, 2018</td>\n",
       "      <td>0.8.2</td>\n",
       "      <td>4.0 and up</td>\n",
       "    </tr>\n",
       "  </tbody>\n",
       "</table>\n",
       "</div>"
      ],
      "text/plain": [
       "        App  Category  Rating  Reviews   Size Installs  Type  Price  \\\n",
       "8883  DTPay  Shopping     4.5       18  994.0   1,000+  Free    0.0   \n",
       "\n",
       "     Content Rating    Genres   Last Updated Current Ver Android Ver  \n",
       "8883       Everyone  Shopping  July 11, 2018       0.8.2  4.0 and up  "
      ]
     },
     "execution_count": 61,
     "metadata": {},
     "output_type": "execute_result"
    }
   ],
   "source": [
    "\n",
    "df[df['Size'] == df['Size'].max()]"
   ]
  },
  {
   "cell_type": "code",
   "execution_count": 62,
   "metadata": {
    "execution": {
     "iopub.execute_input": "2022-06-20T18:09:51.323478Z",
     "iopub.status.busy": "2022-06-20T18:09:51.322934Z",
     "iopub.status.idle": "2022-06-20T18:09:51.346542Z",
     "shell.execute_reply": "2022-06-20T18:09:51.345576Z",
     "shell.execute_reply.started": "2022-06-20T18:09:51.323435Z"
    }
   },
   "outputs": [
    {
     "data": {
      "text/html": [
       "<div>\n",
       "<style scoped>\n",
       "    .dataframe tbody tr th:only-of-type {\n",
       "        vertical-align: middle;\n",
       "    }\n",
       "\n",
       "    .dataframe tbody tr th {\n",
       "        vertical-align: top;\n",
       "    }\n",
       "\n",
       "    .dataframe thead th {\n",
       "        text-align: right;\n",
       "    }\n",
       "</style>\n",
       "<table border=\"1\" class=\"dataframe\">\n",
       "  <thead>\n",
       "    <tr style=\"text-align: right;\">\n",
       "      <th></th>\n",
       "      <th>App</th>\n",
       "      <th>Category</th>\n",
       "      <th>Rating</th>\n",
       "      <th>Reviews</th>\n",
       "      <th>Size</th>\n",
       "      <th>Installs</th>\n",
       "      <th>Type</th>\n",
       "      <th>Price</th>\n",
       "      <th>Content Rating</th>\n",
       "      <th>Genres</th>\n",
       "      <th>Last Updated</th>\n",
       "      <th>Current Ver</th>\n",
       "      <th>Android Ver</th>\n",
       "    </tr>\n",
       "  </thead>\n",
       "  <tbody>\n",
       "    <tr>\n",
       "      <th>5771</th>\n",
       "      <td>News.aw</td>\n",
       "      <td>News_And_Magazines</td>\n",
       "      <td>4.193338</td>\n",
       "      <td>1</td>\n",
       "      <td>1.0</td>\n",
       "      <td>10+</td>\n",
       "      <td>Free</td>\n",
       "      <td>0.00</td>\n",
       "      <td>Everyone</td>\n",
       "      <td>News &amp; Magazines</td>\n",
       "      <td>July 15, 2015</td>\n",
       "      <td>1.0</td>\n",
       "      <td>2.2 and up</td>\n",
       "    </tr>\n",
       "    <tr>\n",
       "      <th>6446</th>\n",
       "      <td>BL PowerPoint Remote</td>\n",
       "      <td>Tools</td>\n",
       "      <td>4.300000</td>\n",
       "      <td>33</td>\n",
       "      <td>1.0</td>\n",
       "      <td>500+</td>\n",
       "      <td>Paid</td>\n",
       "      <td>3.99</td>\n",
       "      <td>Everyone</td>\n",
       "      <td>Tools</td>\n",
       "      <td>February 25, 2015</td>\n",
       "      <td>2.6.150226</td>\n",
       "      <td>2.3 and up</td>\n",
       "    </tr>\n",
       "    <tr>\n",
       "      <th>7074</th>\n",
       "      <td>WISE- MOBILE PORTAL</td>\n",
       "      <td>Tools</td>\n",
       "      <td>4.193338</td>\n",
       "      <td>3</td>\n",
       "      <td>1.0</td>\n",
       "      <td>500+</td>\n",
       "      <td>Free</td>\n",
       "      <td>0.00</td>\n",
       "      <td>Everyone</td>\n",
       "      <td>Tools</td>\n",
       "      <td>July 30, 2015</td>\n",
       "      <td>1.0.0.4</td>\n",
       "      <td>2.2 and up</td>\n",
       "    </tr>\n",
       "    <tr>\n",
       "      <th>8077</th>\n",
       "      <td>go41cx</td>\n",
       "      <td>Family</td>\n",
       "      <td>4.800000</td>\n",
       "      <td>171</td>\n",
       "      <td>1.0</td>\n",
       "      <td>1,000+</td>\n",
       "      <td>Paid</td>\n",
       "      <td>10.00</td>\n",
       "      <td>Everyone</td>\n",
       "      <td>Education</td>\n",
       "      <td>October 18, 2016</td>\n",
       "      <td>1.7.0</td>\n",
       "      <td>2.2 and up</td>\n",
       "    </tr>\n",
       "    <tr>\n",
       "      <th>9973</th>\n",
       "      <td>German Vocabulary Trainer</td>\n",
       "      <td>Family</td>\n",
       "      <td>3.300000</td>\n",
       "      <td>1218</td>\n",
       "      <td>1.0</td>\n",
       "      <td>100,000+</td>\n",
       "      <td>Free</td>\n",
       "      <td>0.00</td>\n",
       "      <td>Everyone</td>\n",
       "      <td>Education</td>\n",
       "      <td>August 24, 2012</td>\n",
       "      <td>1.0</td>\n",
       "      <td>2.1 and up</td>\n",
       "    </tr>\n",
       "    <tr>\n",
       "      <th>10043</th>\n",
       "      <td>Remote EX for NISSAN</td>\n",
       "      <td>Communication</td>\n",
       "      <td>2.300000</td>\n",
       "      <td>223</td>\n",
       "      <td>1.0</td>\n",
       "      <td>5,000+</td>\n",
       "      <td>Paid</td>\n",
       "      <td>1.49</td>\n",
       "      <td>Everyone</td>\n",
       "      <td>Communication</td>\n",
       "      <td>July 26, 2014</td>\n",
       "      <td>1.3</td>\n",
       "      <td>3.0 and up</td>\n",
       "    </tr>\n",
       "    <tr>\n",
       "      <th>10808</th>\n",
       "      <td>lesparticuliers.fr</td>\n",
       "      <td>Lifestyle</td>\n",
       "      <td>4.193338</td>\n",
       "      <td>96</td>\n",
       "      <td>1.0</td>\n",
       "      <td>50,000+</td>\n",
       "      <td>Free</td>\n",
       "      <td>0.00</td>\n",
       "      <td>Everyone</td>\n",
       "      <td>Lifestyle</td>\n",
       "      <td>November 25, 2014</td>\n",
       "      <td>1.5</td>\n",
       "      <td>2.3 and up</td>\n",
       "    </tr>\n",
       "  </tbody>\n",
       "</table>\n",
       "</div>"
      ],
      "text/plain": [
       "                             App            Category    Rating  Reviews  Size  \\\n",
       "5771                     News.aw  News_And_Magazines  4.193338        1   1.0   \n",
       "6446        BL PowerPoint Remote               Tools  4.300000       33   1.0   \n",
       "7074         WISE- MOBILE PORTAL               Tools  4.193338        3   1.0   \n",
       "8077                      go41cx              Family  4.800000      171   1.0   \n",
       "9973   German Vocabulary Trainer              Family  3.300000     1218   1.0   \n",
       "10043       Remote EX for NISSAN       Communication  2.300000      223   1.0   \n",
       "10808         lesparticuliers.fr           Lifestyle  4.193338       96   1.0   \n",
       "\n",
       "       Installs  Type  Price Content Rating            Genres  \\\n",
       "5771        10+  Free   0.00       Everyone  News & Magazines   \n",
       "6446       500+  Paid   3.99       Everyone             Tools   \n",
       "7074       500+  Free   0.00       Everyone             Tools   \n",
       "8077     1,000+  Paid  10.00       Everyone         Education   \n",
       "9973   100,000+  Free   0.00       Everyone         Education   \n",
       "10043    5,000+  Paid   1.49       Everyone     Communication   \n",
       "10808   50,000+  Free   0.00       Everyone         Lifestyle   \n",
       "\n",
       "            Last Updated Current Ver Android Ver  \n",
       "5771       July 15, 2015         1.0  2.2 and up  \n",
       "6446   February 25, 2015  2.6.150226  2.3 and up  \n",
       "7074       July 30, 2015     1.0.0.4  2.2 and up  \n",
       "8077    October 18, 2016       1.7.0  2.2 and up  \n",
       "9973     August 24, 2012         1.0  2.1 and up  \n",
       "10043      July 26, 2014         1.3  3.0 and up  \n",
       "10808  November 25, 2014         1.5  2.3 and up  "
      ]
     },
     "execution_count": 62,
     "metadata": {},
     "output_type": "execute_result"
    }
   ],
   "source": [
    "df[df['Size'] == df['Size'].min()]"
   ]
  },
  {
   "cell_type": "markdown",
   "metadata": {},
   "source": [
    "**Correlation between Ratting, Reviews, Size with the price of the app.**"
   ]
  },
  {
   "cell_type": "code",
   "execution_count": 63,
   "metadata": {
    "execution": {
     "iopub.execute_input": "2022-06-20T18:10:05.955792Z",
     "iopub.status.busy": "2022-06-20T18:10:05.955397Z",
     "iopub.status.idle": "2022-06-20T18:10:06.258755Z",
     "shell.execute_reply": "2022-06-20T18:10:06.257732Z",
     "shell.execute_reply.started": "2022-06-20T18:10:05.955762Z"
    }
   },
   "outputs": [
    {
     "data": {
      "text/plain": [
       "<AxesSubplot:>"
      ]
     },
     "execution_count": 63,
     "metadata": {},
     "output_type": "execute_result"
    },
    {
     "data": {
      "image/png": "[encoded data removed]",
      "text/plain": [
       "<Figure size 432x288 with 2 Axes>"
      ]
     },
     "metadata": {
      "needs_background": "light"
     },
     "output_type": "display_data"
    }
   ],
   "source": [
    "sns.heatmap(df.corr(), annot=True)"
   ]
  },
  {
   "cell_type": "markdown",
   "metadata": {},
   "source": [
    "**Note:** There is almost no correlation between price and other features."
   ]
  },
  {
   "cell_type": "markdown",
   "metadata": {},
   "source": [
    "**Apps for each type of each content rating.**"
   ]
  },
  {
   "cell_type": "code",
   "execution_count": 64,
   "metadata": {
    "execution": {
     "iopub.execute_input": "2022-06-20T18:10:27.36355Z",
     "iopub.status.busy": "2022-06-20T18:10:27.363115Z",
     "iopub.status.idle": "2022-06-20T18:10:27.388921Z",
     "shell.execute_reply": "2022-06-20T18:10:27.388122Z",
     "shell.execute_reply.started": "2022-06-20T18:10:27.363513Z"
    }
   },
   "outputs": [
    {
     "data": {
      "text/html": [
       "<div>\n",
       "<style scoped>\n",
       "    .dataframe tbody tr th:only-of-type {\n",
       "        vertical-align: middle;\n",
       "    }\n",
       "\n",
       "    .dataframe tbody tr th {\n",
       "        vertical-align: top;\n",
       "    }\n",
       "\n",
       "    .dataframe thead th {\n",
       "        text-align: right;\n",
       "    }\n",
       "</style>\n",
       "<table border=\"1\" class=\"dataframe\">\n",
       "  <thead>\n",
       "    <tr style=\"text-align: right;\">\n",
       "      <th>Type</th>\n",
       "      <th>Free</th>\n",
       "      <th>Paid</th>\n",
       "    </tr>\n",
       "    <tr>\n",
       "      <th>Content Rating</th>\n",
       "      <th></th>\n",
       "      <th></th>\n",
       "    </tr>\n",
       "  </thead>\n",
       "  <tbody>\n",
       "    <tr>\n",
       "      <th>Adults only 18+</th>\n",
       "      <td>3.0</td>\n",
       "      <td>NaN</td>\n",
       "    </tr>\n",
       "    <tr>\n",
       "      <th>Everyone</th>\n",
       "      <td>7713.0</td>\n",
       "      <td>659.0</td>\n",
       "    </tr>\n",
       "    <tr>\n",
       "      <th>Everyone 10+</th>\n",
       "      <td>344.0</td>\n",
       "      <td>32.0</td>\n",
       "    </tr>\n",
       "    <tr>\n",
       "      <th>Mature 17+</th>\n",
       "      <td>428.0</td>\n",
       "      <td>19.0</td>\n",
       "    </tr>\n",
       "    <tr>\n",
       "      <th>Teen</th>\n",
       "      <td>1094.0</td>\n",
       "      <td>52.0</td>\n",
       "    </tr>\n",
       "    <tr>\n",
       "      <th>Unrated</th>\n",
       "      <td>2.0</td>\n",
       "      <td>NaN</td>\n",
       "    </tr>\n",
       "  </tbody>\n",
       "</table>\n",
       "</div>"
      ],
      "text/plain": [
       "Type               Free   Paid\n",
       "Content Rating                \n",
       "Adults only 18+     3.0    NaN\n",
       "Everyone         7713.0  659.0\n",
       "Everyone 10+      344.0   32.0\n",
       "Mature 17+        428.0   19.0\n",
       "Teen             1094.0   52.0\n",
       "Unrated             2.0    NaN"
      ]
     },
     "execution_count": 64,
     "metadata": {},
     "output_type": "execute_result"
    }
   ],
   "source": [
    "pd.pivot_table(data = df, index = 'Content Rating', columns = 'Type', values = 'Price', aggfunc='count')"
   ]
  },
  {
   "cell_type": "markdown",
   "metadata": {},
   "source": [
    "**Note:** We can understand the numbers once u see it."
   ]
  },
  {
   "cell_type": "markdown",
   "metadata": {},
   "source": [
    "**Apps that can work on android version 4 or more.**"
   ]
  },
  {
   "cell_type": "code",
   "execution_count": 65,
   "metadata": {
    "execution": {
     "iopub.execute_input": "2022-06-20T18:10:47.297893Z",
     "iopub.status.busy": "2022-06-20T18:10:47.29747Z",
     "iopub.status.idle": "2022-06-20T18:10:47.33494Z",
     "shell.execute_reply": "2022-06-20T18:10:47.333548Z",
     "shell.execute_reply.started": "2022-06-20T18:10:47.297853Z"
    }
   },
   "outputs": [
    {
     "data": {
      "text/html": [
       "<div>\n",
       "<style scoped>\n",
       "    .dataframe tbody tr th:only-of-type {\n",
       "        vertical-align: middle;\n",
       "    }\n",
       "\n",
       "    .dataframe tbody tr th {\n",
       "        vertical-align: top;\n",
       "    }\n",
       "\n",
       "    .dataframe thead th {\n",
       "        text-align: right;\n",
       "    }\n",
       "</style>\n",
       "<table border=\"1\" class=\"dataframe\">\n",
       "  <thead>\n",
       "    <tr style=\"text-align: right;\">\n",
       "      <th></th>\n",
       "      <th>App</th>\n",
       "      <th>Category</th>\n",
       "      <th>Rating</th>\n",
       "      <th>Reviews</th>\n",
       "      <th>Size</th>\n",
       "      <th>Installs</th>\n",
       "      <th>Type</th>\n",
       "      <th>Price</th>\n",
       "      <th>Content Rating</th>\n",
       "      <th>Genres</th>\n",
       "      <th>Last Updated</th>\n",
       "      <th>Current Ver</th>\n",
       "      <th>Android Ver</th>\n",
       "      <th>is_ver_4</th>\n",
       "    </tr>\n",
       "  </thead>\n",
       "  <tbody>\n",
       "    <tr>\n",
       "      <th>0</th>\n",
       "      <td>Photo Editor &amp; Candy Camera &amp; Grid &amp; ScrapBook</td>\n",
       "      <td>Art_And_Design</td>\n",
       "      <td>4.100000</td>\n",
       "      <td>159</td>\n",
       "      <td>19.0</td>\n",
       "      <td>10,000+</td>\n",
       "      <td>Free</td>\n",
       "      <td>0.0</td>\n",
       "      <td>Everyone</td>\n",
       "      <td>Art &amp; Design</td>\n",
       "      <td>January 7, 2018</td>\n",
       "      <td>1.0.0</td>\n",
       "      <td>4.0.3 and up</td>\n",
       "      <td>True</td>\n",
       "    </tr>\n",
       "    <tr>\n",
       "      <th>1</th>\n",
       "      <td>Coloring book moana</td>\n",
       "      <td>Art_And_Design</td>\n",
       "      <td>3.900000</td>\n",
       "      <td>967</td>\n",
       "      <td>14.0</td>\n",
       "      <td>500,000+</td>\n",
       "      <td>Free</td>\n",
       "      <td>0.0</td>\n",
       "      <td>Everyone</td>\n",
       "      <td>Art &amp; Design;Pretend Play</td>\n",
       "      <td>January 15, 2018</td>\n",
       "      <td>2.0.0</td>\n",
       "      <td>4.0.3 and up</td>\n",
       "      <td>True</td>\n",
       "    </tr>\n",
       "    <tr>\n",
       "      <th>2</th>\n",
       "      <td>U Launcher Lite – FREE Live Cool Themes, Hide ...</td>\n",
       "      <td>Art_And_Design</td>\n",
       "      <td>4.700000</td>\n",
       "      <td>87510</td>\n",
       "      <td>8.7</td>\n",
       "      <td>5,000,000+</td>\n",
       "      <td>Free</td>\n",
       "      <td>0.0</td>\n",
       "      <td>Everyone</td>\n",
       "      <td>Art &amp; Design</td>\n",
       "      <td>August 1, 2018</td>\n",
       "      <td>1.2.4</td>\n",
       "      <td>4.0.3 and up</td>\n",
       "      <td>True</td>\n",
       "    </tr>\n",
       "    <tr>\n",
       "      <th>3</th>\n",
       "      <td>Sketch - Draw &amp; Paint</td>\n",
       "      <td>Art_And_Design</td>\n",
       "      <td>4.500000</td>\n",
       "      <td>215644</td>\n",
       "      <td>25.0</td>\n",
       "      <td>50,000,000+</td>\n",
       "      <td>Free</td>\n",
       "      <td>0.0</td>\n",
       "      <td>Teen</td>\n",
       "      <td>Art &amp; Design</td>\n",
       "      <td>June 8, 2018</td>\n",
       "      <td>Varies with device</td>\n",
       "      <td>4.2 and up</td>\n",
       "      <td>True</td>\n",
       "    </tr>\n",
       "    <tr>\n",
       "      <th>4</th>\n",
       "      <td>Pixel Draw - Number Art Coloring Book</td>\n",
       "      <td>Art_And_Design</td>\n",
       "      <td>4.300000</td>\n",
       "      <td>967</td>\n",
       "      <td>2.8</td>\n",
       "      <td>100,000+</td>\n",
       "      <td>Free</td>\n",
       "      <td>0.0</td>\n",
       "      <td>Everyone</td>\n",
       "      <td>Art &amp; Design;Creativity</td>\n",
       "      <td>June 20, 2018</td>\n",
       "      <td>1.1</td>\n",
       "      <td>4.4 and up</td>\n",
       "      <td>True</td>\n",
       "    </tr>\n",
       "    <tr>\n",
       "      <th>...</th>\n",
       "      <td>...</td>\n",
       "      <td>...</td>\n",
       "      <td>...</td>\n",
       "      <td>...</td>\n",
       "      <td>...</td>\n",
       "      <td>...</td>\n",
       "      <td>...</td>\n",
       "      <td>...</td>\n",
       "      <td>...</td>\n",
       "      <td>...</td>\n",
       "      <td>...</td>\n",
       "      <td>...</td>\n",
       "      <td>...</td>\n",
       "      <td>...</td>\n",
       "    </tr>\n",
       "    <tr>\n",
       "      <th>10836</th>\n",
       "      <td>Sya9a Maroc - FR</td>\n",
       "      <td>Family</td>\n",
       "      <td>4.500000</td>\n",
       "      <td>38</td>\n",
       "      <td>53.0</td>\n",
       "      <td>5,000+</td>\n",
       "      <td>Free</td>\n",
       "      <td>0.0</td>\n",
       "      <td>Everyone</td>\n",
       "      <td>Education</td>\n",
       "      <td>July 25, 2017</td>\n",
       "      <td>1.48</td>\n",
       "      <td>4.1 and up</td>\n",
       "      <td>True</td>\n",
       "    </tr>\n",
       "    <tr>\n",
       "      <th>10837</th>\n",
       "      <td>Fr. Mike Schmitz Audio Teachings</td>\n",
       "      <td>Family</td>\n",
       "      <td>5.000000</td>\n",
       "      <td>4</td>\n",
       "      <td>3.6</td>\n",
       "      <td>100+</td>\n",
       "      <td>Free</td>\n",
       "      <td>0.0</td>\n",
       "      <td>Everyone</td>\n",
       "      <td>Education</td>\n",
       "      <td>July 6, 2018</td>\n",
       "      <td>1.0</td>\n",
       "      <td>4.1 and up</td>\n",
       "      <td>True</td>\n",
       "    </tr>\n",
       "    <tr>\n",
       "      <th>10838</th>\n",
       "      <td>Parkinson Exercices FR</td>\n",
       "      <td>Medical</td>\n",
       "      <td>4.193338</td>\n",
       "      <td>3</td>\n",
       "      <td>9.5</td>\n",
       "      <td>1,000+</td>\n",
       "      <td>Free</td>\n",
       "      <td>0.0</td>\n",
       "      <td>Everyone</td>\n",
       "      <td>Medical</td>\n",
       "      <td>January 20, 2017</td>\n",
       "      <td>1.0</td>\n",
       "      <td>2.2 and up</td>\n",
       "      <td>False</td>\n",
       "    </tr>\n",
       "    <tr>\n",
       "      <th>10839</th>\n",
       "      <td>The SCP Foundation DB fr nn5n</td>\n",
       "      <td>Books_And_Reference</td>\n",
       "      <td>4.500000</td>\n",
       "      <td>114</td>\n",
       "      <td>NaN</td>\n",
       "      <td>1,000+</td>\n",
       "      <td>Free</td>\n",
       "      <td>0.0</td>\n",
       "      <td>Mature 17+</td>\n",
       "      <td>Books &amp; Reference</td>\n",
       "      <td>January 19, 2015</td>\n",
       "      <td>Varies with device</td>\n",
       "      <td>Varies with device</td>\n",
       "      <td>False</td>\n",
       "    </tr>\n",
       "    <tr>\n",
       "      <th>10840</th>\n",
       "      <td>iHoroscope - 2018 Daily Horoscope &amp; Astrology</td>\n",
       "      <td>Lifestyle</td>\n",
       "      <td>4.500000</td>\n",
       "      <td>398307</td>\n",
       "      <td>19.0</td>\n",
       "      <td>10,000,000+</td>\n",
       "      <td>Free</td>\n",
       "      <td>0.0</td>\n",
       "      <td>Everyone</td>\n",
       "      <td>Lifestyle</td>\n",
       "      <td>July 25, 2018</td>\n",
       "      <td>Varies with device</td>\n",
       "      <td>Varies with device</td>\n",
       "      <td>False</td>\n",
       "    </tr>\n",
       "  </tbody>\n",
       "</table>\n",
       "<p>10346 rows × 14 columns</p>\n",
       "</div>"
      ],
      "text/plain": [
       "                                                     App             Category  \\\n",
       "0         Photo Editor & Candy Camera & Grid & ScrapBook       Art_And_Design   \n",
       "1                                    Coloring book moana       Art_And_Design   \n",
       "2      U Launcher Lite – FREE Live Cool Themes, Hide ...       Art_And_Design   \n",
       "3                                  Sketch - Draw & Paint       Art_And_Design   \n",
       "4                  Pixel Draw - Number Art Coloring Book       Art_And_Design   \n",
       "...                                                  ...                  ...   \n",
       "10836                                   Sya9a Maroc - FR               Family   \n",
       "10837                   Fr. Mike Schmitz Audio Teachings               Family   \n",
       "10838                             Parkinson Exercices FR              Medical   \n",
       "10839                      The SCP Foundation DB fr nn5n  Books_And_Reference   \n",
       "10840      iHoroscope - 2018 Daily Horoscope & Astrology            Lifestyle   \n",
       "\n",
       "         Rating  Reviews  Size     Installs  Type  Price Content Rating  \\\n",
       "0      4.100000      159  19.0      10,000+  Free    0.0       Everyone   \n",
       "1      3.900000      967  14.0     500,000+  Free    0.0       Everyone   \n",
       "2      4.700000    87510   8.7   5,000,000+  Free    0.0       Everyone   \n",
       "3      4.500000   215644  25.0  50,000,000+  Free    0.0           Teen   \n",
       "4      4.300000      967   2.8     100,000+  Free    0.0       Everyone   \n",
       "...         ...      ...   ...          ...   ...    ...            ...   \n",
       "10836  4.500000       38  53.0       5,000+  Free    0.0       Everyone   \n",
       "10837  5.000000        4   3.6         100+  Free    0.0       Everyone   \n",
       "10838  4.193338        3   9.5       1,000+  Free    0.0       Everyone   \n",
       "10839  4.500000      114   NaN       1,000+  Free    0.0     Mature 17+   \n",
       "10840  4.500000   398307  19.0  10,000,000+  Free    0.0       Everyone   \n",
       "\n",
       "                          Genres      Last Updated         Current Ver  \\\n",
       "0                   Art & Design   January 7, 2018               1.0.0   \n",
       "1      Art & Design;Pretend Play  January 15, 2018               2.0.0   \n",
       "2                   Art & Design    August 1, 2018               1.2.4   \n",
       "3                   Art & Design      June 8, 2018  Varies with device   \n",
       "4        Art & Design;Creativity     June 20, 2018                 1.1   \n",
       "...                          ...               ...                 ...   \n",
       "10836                  Education     July 25, 2017                1.48   \n",
       "10837                  Education      July 6, 2018                 1.0   \n",
       "10838                    Medical  January 20, 2017                 1.0   \n",
       "10839          Books & Reference  January 19, 2015  Varies with device   \n",
       "10840                  Lifestyle     July 25, 2018  Varies with device   \n",
       "\n",
       "              Android Ver  is_ver_4  \n",
       "0            4.0.3 and up      True  \n",
       "1            4.0.3 and up      True  \n",
       "2            4.0.3 and up      True  \n",
       "3              4.2 and up      True  \n",
       "4              4.4 and up      True  \n",
       "...                   ...       ...  \n",
       "10836          4.1 and up      True  \n",
       "10837          4.1 and up      True  \n",
       "10838          2.2 and up     False  \n",
       "10839  Varies with device     False  \n",
       "10840  Varies with device     False  \n",
       "\n",
       "[10346 rows x 14 columns]"
      ]
     },
     "execution_count": 65,
     "metadata": {},
     "output_type": "execute_result"
    }
   ],
   "source": [
    "def android_ver_4(version):\n",
    "    try:\n",
    "        if version.startswith('4'):\n",
    "            return True\n",
    "        else:\n",
    "            return False\n",
    "    except:\n",
    "        return np.nan\n",
    "df['is_ver_4'] = df['Android Ver'].apply(android_ver_4)\n",
    "df"
   ]
  },
  {
   "cell_type": "code",
   "execution_count": 66,
   "metadata": {
    "execution": {
     "iopub.execute_input": "2022-06-20T18:10:54.301187Z",
     "iopub.status.busy": "2022-06-20T18:10:54.300732Z",
     "iopub.status.idle": "2022-06-20T18:10:54.309657Z",
     "shell.execute_reply": "2022-06-20T18:10:54.308592Z",
     "shell.execute_reply.started": "2022-06-20T18:10:54.301133Z"
    }
   },
   "outputs": [
    {
     "data": {
      "text/plain": [
       "6694"
      ]
     },
     "execution_count": 66,
     "metadata": {},
     "output_type": "execute_result"
    }
   ],
   "source": [
    "len(df[df['is_ver_4'] == True])"
   ]
  },
  {
   "cell_type": "code",
   "execution_count": 67,
   "metadata": {
    "execution": {
     "iopub.execute_input": "2022-06-20T18:11:00.785837Z",
     "iopub.status.busy": "2022-06-20T18:11:00.785348Z",
     "iopub.status.idle": "2022-06-20T18:11:00.795308Z",
     "shell.execute_reply": "2022-06-20T18:11:00.794517Z",
     "shell.execute_reply.started": "2022-06-20T18:11:00.785794Z"
    }
   },
   "outputs": [
    {
     "data": {
      "text/plain": [
       "True     6694\n",
       "False    3652\n",
       "Name: is_ver_4, dtype: int64"
      ]
     },
     "execution_count": 67,
     "metadata": {},
     "output_type": "execute_result"
    }
   ],
   "source": [
    "df['is_ver_4'].value_counts()"
   ]
  },
  {
   "cell_type": "code",
   "execution_count": 68,
   "metadata": {
    "execution": {
     "iopub.execute_input": "2022-06-20T18:11:07.090968Z",
     "iopub.status.busy": "2022-06-20T18:11:07.090569Z",
     "iopub.status.idle": "2022-06-20T18:11:07.279988Z",
     "shell.execute_reply": "2022-06-20T18:11:07.279303Z",
     "shell.execute_reply.started": "2022-06-20T18:11:07.090934Z"
    }
   },
   "outputs": [
    {
     "data": {
      "text/plain": [
       "<AxesSubplot:xlabel='is_ver_4', ylabel='count'>"
      ]
     },
     "execution_count": 68,
     "metadata": {},
     "output_type": "execute_result"
    },
    {
     "data": {
      "image/png": "[encoded data removed]",
      "text/plain": [
       "<Figure size 432x288 with 1 Axes>"
      ]
     },
     "metadata": {
      "needs_background": "light"
     },
     "output_type": "display_data"
    }
   ],
   "source": [
    "sns.countplot(x = 'is_ver_4', data = df)"
   ]
  },
  {
   "cell_type": "markdown",
   "metadata": {},
   "source": [
    "**Note:** And that makes good overview on that there is much apps foucing android version 4, and its derivative."
   ]
  },
  {
   "cell_type": "markdown",
   "metadata": {},
   "source": [
    "### Insights"
   ]
  },
  {
   "cell_type": "markdown",
   "metadata": {},
   "source": [
    "#### the most popular app categories on the Google Play Store and how has their popularity changed over time"
   ]
  },
  {
   "cell_type": "code",
   "execution_count": 69,
   "metadata": {},
   "outputs": [
    {
     "data": {
      "image/png": "[encoded data removed]",
      "text/plain": [
       "<Figure size 720x432 with 1 Axes>"
      ]
     },
     "metadata": {
      "needs_background": "light"
     },
     "output_type": "display_data"
    }
   ],
   "source": [
    "\n",
    "# Count the number of apps in each category\n",
    "category_count = df['Category'].value_counts()\n",
    "\n",
    "# Plot the category count\n",
    "plt.figure(figsize=(10,6))\n",
    "category_count.plot(kind='bar')\n",
    "plt.title('Number of Apps in each Category')\n",
    "plt.xlabel('Category')\n",
    "plt.ylabel('Number of Apps')\n",
    "plt.show()\n"
   ]
  },
  {
   "cell_type": "markdown",
   "metadata": {},
   "source": [
    "#### the key factors that contribute to the success of an app, such as app size, content rating, price, and user engagement"
   ]
  },
  {
   "cell_type": "code",
   "execution_count": 70,
   "metadata": {},
   "outputs": [
    {
     "data": {
      "text/html": [
       "<div>\n",
       "<style scoped>\n",
       "    .dataframe tbody tr th:only-of-type {\n",
       "        vertical-align: middle;\n",
       "    }\n",
       "\n",
       "    .dataframe tbody tr th {\n",
       "        vertical-align: top;\n",
       "    }\n",
       "\n",
       "    .dataframe thead th {\n",
       "        text-align: right;\n",
       "    }\n",
       "</style>\n",
       "<table border=\"1\" class=\"dataframe\">\n",
       "  <thead>\n",
       "    <tr style=\"text-align: right;\">\n",
       "      <th></th>\n",
       "      <th>App</th>\n",
       "      <th>Category</th>\n",
       "      <th>Rating</th>\n",
       "      <th>Reviews</th>\n",
       "      <th>Size</th>\n",
       "      <th>Installs</th>\n",
       "      <th>Type</th>\n",
       "      <th>Price</th>\n",
       "      <th>Content Rating</th>\n",
       "      <th>Genres</th>\n",
       "      <th>Last Updated</th>\n",
       "      <th>Current Ver</th>\n",
       "      <th>Android Ver</th>\n",
       "      <th>is_ver_4</th>\n",
       "    </tr>\n",
       "  </thead>\n",
       "  <tbody>\n",
       "    <tr>\n",
       "      <th>0</th>\n",
       "      <td>Photo Editor &amp; Candy Camera &amp; Grid &amp; ScrapBook</td>\n",
       "      <td>Art_And_Design</td>\n",
       "      <td>4.1</td>\n",
       "      <td>159</td>\n",
       "      <td>19.0</td>\n",
       "      <td>10,000+</td>\n",
       "      <td>Free</td>\n",
       "      <td>0.0</td>\n",
       "      <td>Everyone</td>\n",
       "      <td>Art &amp; Design</td>\n",
       "      <td>January 7, 2018</td>\n",
       "      <td>1.0.0</td>\n",
       "      <td>4.0.3 and up</td>\n",
       "      <td>True</td>\n",
       "    </tr>\n",
       "    <tr>\n",
       "      <th>1</th>\n",
       "      <td>Coloring book moana</td>\n",
       "      <td>Art_And_Design</td>\n",
       "      <td>3.9</td>\n",
       "      <td>967</td>\n",
       "      <td>14.0</td>\n",
       "      <td>500,000+</td>\n",
       "      <td>Free</td>\n",
       "      <td>0.0</td>\n",
       "      <td>Everyone</td>\n",
       "      <td>Art &amp; Design;Pretend Play</td>\n",
       "      <td>January 15, 2018</td>\n",
       "      <td>2.0.0</td>\n",
       "      <td>4.0.3 and up</td>\n",
       "      <td>True</td>\n",
       "    </tr>\n",
       "    <tr>\n",
       "      <th>2</th>\n",
       "      <td>U Launcher Lite – FREE Live Cool Themes, Hide ...</td>\n",
       "      <td>Art_And_Design</td>\n",
       "      <td>4.7</td>\n",
       "      <td>87510</td>\n",
       "      <td>8.7</td>\n",
       "      <td>5,000,000+</td>\n",
       "      <td>Free</td>\n",
       "      <td>0.0</td>\n",
       "      <td>Everyone</td>\n",
       "      <td>Art &amp; Design</td>\n",
       "      <td>August 1, 2018</td>\n",
       "      <td>1.2.4</td>\n",
       "      <td>4.0.3 and up</td>\n",
       "      <td>True</td>\n",
       "    </tr>\n",
       "    <tr>\n",
       "      <th>3</th>\n",
       "      <td>Sketch - Draw &amp; Paint</td>\n",
       "      <td>Art_And_Design</td>\n",
       "      <td>4.5</td>\n",
       "      <td>215644</td>\n",
       "      <td>25.0</td>\n",
       "      <td>50,000,000+</td>\n",
       "      <td>Free</td>\n",
       "      <td>0.0</td>\n",
       "      <td>Teen</td>\n",
       "      <td>Art &amp; Design</td>\n",
       "      <td>June 8, 2018</td>\n",
       "      <td>Varies with device</td>\n",
       "      <td>4.2 and up</td>\n",
       "      <td>True</td>\n",
       "    </tr>\n",
       "    <tr>\n",
       "      <th>4</th>\n",
       "      <td>Pixel Draw - Number Art Coloring Book</td>\n",
       "      <td>Art_And_Design</td>\n",
       "      <td>4.3</td>\n",
       "      <td>967</td>\n",
       "      <td>2.8</td>\n",
       "      <td>100,000+</td>\n",
       "      <td>Free</td>\n",
       "      <td>0.0</td>\n",
       "      <td>Everyone</td>\n",
       "      <td>Art &amp; Design;Creativity</td>\n",
       "      <td>June 20, 2018</td>\n",
       "      <td>1.1</td>\n",
       "      <td>4.4 and up</td>\n",
       "      <td>True</td>\n",
       "    </tr>\n",
       "  </tbody>\n",
       "</table>\n",
       "</div>"
      ],
      "text/plain": [
       "                                                 App        Category  Rating  \\\n",
       "0     Photo Editor & Candy Camera & Grid & ScrapBook  Art_And_Design     4.1   \n",
       "1                                Coloring book moana  Art_And_Design     3.9   \n",
       "2  U Launcher Lite – FREE Live Cool Themes, Hide ...  Art_And_Design     4.7   \n",
       "3                              Sketch - Draw & Paint  Art_And_Design     4.5   \n",
       "4              Pixel Draw - Number Art Coloring Book  Art_And_Design     4.3   \n",
       "\n",
       "   Reviews  Size     Installs  Type  Price Content Rating  \\\n",
       "0      159  19.0      10,000+  Free    0.0       Everyone   \n",
       "1      967  14.0     500,000+  Free    0.0       Everyone   \n",
       "2    87510   8.7   5,000,000+  Free    0.0       Everyone   \n",
       "3   215644  25.0  50,000,000+  Free    0.0           Teen   \n",
       "4      967   2.8     100,000+  Free    0.0       Everyone   \n",
       "\n",
       "                      Genres      Last Updated         Current Ver  \\\n",
       "0               Art & Design   January 7, 2018               1.0.0   \n",
       "1  Art & Design;Pretend Play  January 15, 2018               2.0.0   \n",
       "2               Art & Design    August 1, 2018               1.2.4   \n",
       "3               Art & Design      June 8, 2018  Varies with device   \n",
       "4    Art & Design;Creativity     June 20, 2018                 1.1   \n",
       "\n",
       "    Android Ver  is_ver_4  \n",
       "0  4.0.3 and up      True  \n",
       "1  4.0.3 and up      True  \n",
       "2  4.0.3 and up      True  \n",
       "3    4.2 and up      True  \n",
       "4    4.4 and up      True  "
      ]
     },
     "execution_count": 70,
     "metadata": {},
     "output_type": "execute_result"
    }
   ],
   "source": [
    "df.head()"
   ]
  },
  {
   "cell_type": "code",
   "execution_count": 71,
   "metadata": {},
   "outputs": [],
   "source": [
    "\n",
    "# Clean the column by removing non-numeric characters\n",
    "df['Installs'] = df['Installs'].str.replace(',', '')\n",
    "\n",
    "\n",
    "df['Installs'] = df['Installs'].astype(str).str.replace(\"+\", \"\")"
   ]
  },
  {
   "cell_type": "code",
   "execution_count": 72,
   "metadata": {},
   "outputs": [
    {
     "data": {
      "text/plain": [
       "Index(['App', 'Category', 'Rating', 'Reviews', 'Size', 'Installs', 'Type',\n",
       "       'Price', 'Content Rating', 'Genres', 'Last Updated', 'Current Ver',\n",
       "       'Android Ver', 'is_ver_4'],\n",
       "      dtype='object')"
      ]
     },
     "execution_count": 72,
     "metadata": {},
     "output_type": "execute_result"
    }
   ],
   "source": [
    "\n",
    "df.columns"
   ]
  },
  {
   "cell_type": "code",
   "execution_count": 73,
   "metadata": {},
   "outputs": [
    {
     "data": {
      "text/plain": [
       "0           10000\n",
       "1          500000\n",
       "2         5000000\n",
       "3        50000000\n",
       "4          100000\n",
       "           ...   \n",
       "10836        5000\n",
       "10837         100\n",
       "10838        1000\n",
       "10839        1000\n",
       "10840    10000000\n",
       "Name: Installs, Length: 10346, dtype: object"
      ]
     },
     "execution_count": 73,
     "metadata": {},
     "output_type": "execute_result"
    }
   ],
   "source": [
    "df['Installs']"
   ]
  },
  {
   "cell_type": "code",
   "execution_count": 74,
   "metadata": {},
   "outputs": [
    {
     "name": "stdout",
     "output_type": "stream",
     "text": [
      "App                object\n",
      "Category           object\n",
      "Rating            float64\n",
      "Reviews             int32\n",
      "Size              float64\n",
      "Installs            int32\n",
      "Type               object\n",
      "Price             float64\n",
      "Content Rating     object\n",
      "Genres             object\n",
      "Last Updated       object\n",
      "Current Ver        object\n",
      "Android Ver        object\n",
      "is_ver_4             bool\n",
      "dtype: object\n"
     ]
    }
   ],
   "source": [
    "# Convert the object column to int\n",
    "df['Installs'] = df['Installs'].astype(int)\n",
    "\n",
    "# Check the data types after conversion\n",
    "print(df.dtypes)"
   ]
  },
  {
   "cell_type": "code",
   "execution_count": 75,
   "metadata": {},
   "outputs": [
    {
     "name": "stdout",
     "output_type": "stream",
     "text": [
      "Top 10 Categories by Average Number of Installs:\n",
      "                          Size    Rating     Price      Installs\n",
      "Category                                                       \n",
      "Communication       56.525000  4.158216  0.227158  6.598983e+07\n",
      "Social              25.699507  4.247001  0.057036  4.469239e+07\n",
      "Video_Players       22.032824  4.074858  0.059771  3.555430e+07\n",
      "Productivity        35.822408  4.200279  0.616536  3.062185e+07\n",
      "Photography         20.889712  4.183479  0.379596  3.019021e+07\n",
      "Game                45.575400  4.277598  0.256289  2.813918e+07\n",
      "Travel_And_Local    25.983799  4.107539  0.210759  2.684341e+07\n",
      "Entertainment       22.638806  4.136036  0.071892  2.212306e+07\n",
      "News_And_Magazines  14.118660  4.140784  0.015076  2.042886e+07\n",
      "Tools               47.573134  4.065970  0.316599  1.361745e+07\n"
     ]
    }
   ],
   "source": [
    "# Group the data by app category and calculate the mean values for app size, content rating, price, and number of installs\n",
    "grouped_data = df.groupby('Category').mean()[['Size', 'Rating', 'Price', 'Installs']]\n",
    "\n",
    "# Sort the data by number of installs in descending order\n",
    "grouped_data = grouped_data.sort_values(by='Installs', ascending=False)\n",
    "\n",
    "# Print the top 10 categories with the highest average number of installs\n",
    "print('Top 10 Categories by Average Number of Installs:\\n', grouped_data.head(10))"
   ]
  },
  {
   "cell_type": "markdown",
   "metadata": {},
   "source": [
    "#### What are the trends in app pricing on the platform, and how do they affect the number of downloads and revenue generated?"
   ]
  },
  {
   "cell_type": "code",
   "execution_count": 76,
   "metadata": {},
   "outputs": [
    {
     "name": "stdout",
     "output_type": "stream",
     "text": [
      "Top 10 Categories by Average App Price:\n",
      " Category\n",
      "Finance                8.057861\n",
      "Lifestyle              6.329410\n",
      "Medical                2.501691\n",
      "Events                 1.718594\n",
      "Family                 1.247978\n",
      "Productivity           0.616536\n",
      "Books_And_Reference    0.523013\n",
      "Business               0.410515\n",
      "Weather                0.395366\n",
      "Personalization        0.388549\n",
      "Name: Price, dtype: float64\n",
      "Correlation between app price and number of installs: -0.011155061811212104\n",
      "___________________________________________________________________________________\n",
      "Top 10 Categories by Total Revenue:\n",
      " Category\n",
      "Family             1.857308e+08\n",
      "Lifestyle          5.758394e+07\n",
      "Game               4.098764e+07\n",
      "Finance            2.572668e+07\n",
      "Photography        8.942768e+06\n",
      "Medical            8.456536e+06\n",
      "Personalization    7.785458e+06\n",
      "Tools              5.464811e+06\n",
      "Sports             4.706212e+06\n",
      "Productivity       4.313375e+06\n",
      "Name: Revenue, dtype: float64\n"
     ]
    }
   ],
   "source": [
    "# Calculate the average app price for each category\n",
    "grouped_data = df.groupby('Category').mean()['Price']\n",
    "\n",
    "# Sort the data by app price in descending order\n",
    "grouped_data = grouped_data.sort_values(ascending=False)\n",
    "\n",
    "# Print the top 10 categories with the highest average app price\n",
    "print('Top 10 Categories by Average App Price:\\n', grouped_data.head(10))\n",
    "\n",
    "# Calculate the correlation between app price and number of installs\n",
    "corr = df['Price'].corr(df['Installs'])\n",
    "print('Correlation between app price and number of installs:', corr)\n",
    "\n",
    "# Calculate the total revenue generated by each app category\n",
    "df['Revenue'] = df['Installs'] * df['Price']\n",
    "grouped_data = df.groupby('Category').sum()['Revenue']\n",
    "\n",
    "# Sort the data by total revenue in descending order\n",
    "grouped_data1 = grouped_data.sort_values(ascending=False)\n",
    "print('___________________________________________________________________________________')\n",
    "# Print the top 10 categories with the highest total revenue\n",
    "print('Top 10 Categories by Total Revenue:\\n', grouped_data1.head(10))\n"
   ]
  },
  {
   "cell_type": "markdown",
   "metadata": {},
   "source": [
    "#### What are the most common features and functionalities of successful apps in different categories?"
   ]
  },
  {
   "cell_type": "code",
   "execution_count": 77,
   "metadata": {},
   "outputs": [
    {
     "name": "stdout",
     "output_type": "stream",
     "text": [
      "Most Common Features and Functionalities for each Category:\n",
      "                                                                    App  \\\n",
      "Category                                                                 \n",
      "Art_And_Design                              Textgram - write on photos   \n",
      "Auto_And_Vehicles                          Monster Truck Stunt 3D 2019   \n",
      "Beauty                                      Hush - Beauty for Everyone   \n",
      "Books_And_Reference                               Wattpad 📖 Free Books   \n",
      "Business                                                         Slack   \n",
      "Comics                                      LINE WEBTOON - Free Comics   \n",
      "Communication                                                 Hangouts   \n",
      "Dating                                       Moco+ - Chat, Meet People   \n",
      "Education            Learn languages, grammar & vocabulary with Mem...   \n",
      "Entertainment                                                  Netflix   \n",
      "Events                                              All Events in City   \n",
      "Family                                                          ROBLOX   \n",
      "Finance                                                     Google Pay   \n",
      "Food_And_Drink                                             Chick-fil-A   \n",
      "Game                                                        Helix Jump   \n",
      "Health_And_Fitness                                      Nike+ Run Club   \n",
      "House_And_Home                             Houzz Interior Design Ideas   \n",
      "Libraries_And_Demo                                           Cardboard   \n",
      "Lifestyle                                              Diary with lock   \n",
      "Maps_And_Navigation  Waze - GPS, Maps, Traffic Alerts & Live Naviga...   \n",
      "Medical                                            Youper - AI Therapy   \n",
      "News_And_Magazines                                         Google News   \n",
      "Parenting                                                   Baby Names   \n",
      "Personalization                                          Apex Launcher   \n",
      "Photography             BeautyPlus - Easy Photo Editor & Selfie Camera   \n",
      "Productivity                                            Microsoft Word   \n",
      "Shopping                                      Wish - Shopping Made Fun   \n",
      "Social                                                        Snapchat   \n",
      "Sports                     Yahoo Fantasy Sports - #1 Rated Fantasy App   \n",
      "Tools                                     Gboard - the Google Keyboard   \n",
      "Travel_And_Local                             Maps - Navigate & Explore   \n",
      "Video_Players                                                MX Player   \n",
      "Weather              AccuWeather: Daily Forecast & Live Weather Rep...   \n",
      "\n",
      "                       Rating  Reviews  Size  Installs  Price Content Rating  \\\n",
      "Category                                                                       \n",
      "Art_And_Design       4.700000      967  12.0    100000    0.0       Everyone   \n",
      "Auto_And_Vehicles    4.193338        0  17.0    100000    0.0       Everyone   \n",
      "Beauty               4.193338        1   2.9     10000    0.0       Everyone   \n",
      "Books_And_Reference  4.193338        0  17.0      1000    0.0       Everyone   \n",
      "Business             4.193338        0  10.0       100    0.0       Everyone   \n",
      "Comics               4.400000  1013635  15.0   1000000    0.0       Everyone   \n",
      "Communication        4.193338        0  17.0  10000000    0.0       Everyone   \n",
      "Dating               4.193338        0   5.0    100000    0.0     Mature 17+   \n",
      "Education            4.400000  6289924  21.0   1000000    0.0       Everyone   \n",
      "Entertainment        4.200000    27424  19.0   1000000    0.0           Teen   \n",
      "Events               4.193338        0  11.0    100000    0.0       Everyone   \n",
      "Family               4.193338        0  13.0   1000000    0.0       Everyone   \n",
      "Finance              4.193338        0  12.0     10000    0.0       Everyone   \n",
      "Food_And_Drink       4.193338        0  17.0   1000000    0.0       Everyone   \n",
      "Game                 4.500000        0  99.0  10000000    0.0       Everyone   \n",
      "Health_And_Fitness   4.193338        0  15.0   1000000    0.0       Everyone   \n",
      "House_And_Home       4.193338        0  15.0   1000000    0.0       Everyone   \n",
      "Libraries_And_Demo   4.193338       45   2.5     10000    0.0       Everyone   \n",
      "Lifestyle            4.193338        0  13.0   1000000    0.0       Everyone   \n",
      "Maps_And_Navigation  4.200000        8  26.0   1000000    0.0       Everyone   \n",
      "Medical              4.193338        0  29.0      1000    0.0       Everyone   \n",
      "News_And_Magazines   4.193338        0  25.0   1000000    0.0       Everyone   \n",
      "Parenting            4.193338       34  11.0     10000    0.0       Everyone   \n",
      "Personalization      4.193338        0  14.0       100    0.0       Everyone   \n",
      "Photography          4.300000        1  17.0  10000000    0.0       Everyone   \n",
      "Productivity         4.193338        0  18.0   1000000    0.0       Everyone   \n",
      "Shopping             4.500000        0  15.0  10000000    0.0       Everyone   \n",
      "Social               4.300000        0  63.0  10000000    0.0           Teen   \n",
      "Sports               4.193338        0  26.0   1000000    0.0       Everyone   \n",
      "Tools                4.193338        0   3.0   1000000    0.0       Everyone   \n",
      "Travel_And_Local     4.400000        0  22.0   1000000    0.0       Everyone   \n",
      "Video_Players        4.300000        0  14.0   1000000    0.0       Everyone   \n",
      "Weather              4.200000        0  10.0   1000000    0.0       Everyone   \n",
      "\n",
      "                                      Genres  \n",
      "Category                                      \n",
      "Art_And_Design                  Art & Design  \n",
      "Auto_And_Vehicles            Auto & Vehicles  \n",
      "Beauty                                Beauty  \n",
      "Books_And_Reference        Books & Reference  \n",
      "Business                            Business  \n",
      "Comics                                Comics  \n",
      "Communication                  Communication  \n",
      "Dating                                Dating  \n",
      "Education                          Education  \n",
      "Entertainment                  Entertainment  \n",
      "Events                                Events  \n",
      "Family                         Entertainment  \n",
      "Finance                              Finance  \n",
      "Food_And_Drink                  Food & Drink  \n",
      "Game                                  Action  \n",
      "Health_And_Fitness          Health & Fitness  \n",
      "House_And_Home                  House & Home  \n",
      "Libraries_And_Demo          Libraries & Demo  \n",
      "Lifestyle                          Lifestyle  \n",
      "Maps_And_Navigation        Maps & Navigation  \n",
      "Medical                              Medical  \n",
      "News_And_Magazines          News & Magazines  \n",
      "Parenting                          Parenting  \n",
      "Personalization              Personalization  \n",
      "Photography                      Photography  \n",
      "Productivity                    Productivity  \n",
      "Shopping                            Shopping  \n",
      "Social                                Social  \n",
      "Sports                                Sports  \n",
      "Tools                                  Tools  \n",
      "Travel_And_Local              Travel & Local  \n",
      "Video_Players        Video Players & Editors  \n",
      "Weather                              Weather  \n"
     ]
    }
   ],
   "source": [
    "# Group the data by app category and calculate the frequency of each feature and functionality\n",
    "features = ['App', 'Category', 'Rating', 'Reviews', 'Size', 'Installs', 'Price', 'Content Rating', 'Genres']\n",
    "data_subset = df[features]\n",
    "grouped_data = data_subset.groupby('Category').agg(lambda x: x.value_counts().index[0])\n",
    "\n",
    "# Print the most common features and functionalities for each app category\n",
    "print('Most Common Features and Functionalities for each Category:\\n', grouped_data)\n"
   ]
  },
  {
   "cell_type": "markdown",
   "metadata": {},
   "source": [
    "#### How has the number of app downloads and the overall app ecosystem evolved over time?"
   ]
  },
  {
   "cell_type": "code",
   "execution_count": 78,
   "metadata": {},
   "outputs": [
    {
     "data": {
      "image/png": "[encoded data removed]",
      "text/plain": [
       "<Figure size 432x288 with 1 Axes>"
      ]
     },
     "metadata": {
      "needs_background": "light"
     },
     "output_type": "display_data"
    }
   ],
   "source": [
    "# Convert the Last Updated column to a datetime object\n",
    "df['Last Updated'] = pd.to_datetime(df['Last Updated'])\n",
    "                                     \n",
    "# Group the data by year and calculate the total number of app downloads for each year\n",
    "df['Year'] = df['Last Updated'].dt.year\n",
    "grouped_data = df.groupby('Year').sum()['Installs']\n",
    "\n",
    "# Plot the trend in the number of app downloads over time\n",
    "import matplotlib.pyplot as plt\n",
    "plt.plot(grouped_data.index, grouped_data.values)\n",
    "plt.title('Trend in Number of App Downloads over Time')\n",
    "plt.xlabel('Year')\n",
    "plt.ylabel('Number of Downloads')\n",
    "plt.show()\n"
   ]
  },
  {
   "cell_type": "markdown",
   "metadata": {},
   "source": [
    "#### What are the differences in user behavior and preferences across different regions and countries?"
   ]
  },
  {
   "cell_type": "code",
   "execution_count": 79,
   "metadata": {},
   "outputs": [
    {
     "name": "stdout",
     "output_type": "stream",
     "text": [
      "Top 10 Countries by Average App Rating:\n",
      "                       Rating      Installs\n",
      "Android Ver                               \n",
      "7.0 - 7.1.1         4.500000  1.000000e+06\n",
      "5.0 - 8.0           4.500000  1.000000e+07\n",
      "5.0 - 6.0           4.500000  1.000000e+04\n",
      "2.0 and up          4.347528  1.145577e+06\n",
      "2.0.1 and up        4.328571  1.443858e+07\n",
      "5.1 and up          4.307274  2.918982e+05\n",
      "4.4W and up         4.269094  2.479091e+03\n",
      "Varies with device  4.268131  6.561461e+07\n",
      "4.1 and up          4.238709  1.168485e+07\n",
      "4.0.3 and up        4.231363  5.013919e+06\n",
      "____________________________________________________________________________________\n",
      "Correlation Matrix:\n",
      "             Rating   Reviews  Installs\n",
      "Rating    1.000000  0.068359  0.050462\n",
      "Reviews   0.068359  1.000000  0.634987\n",
      "Installs  0.050462  0.634987  1.000000\n"
     ]
    }
   ],
   "source": [
    "# Group the data by country and calculate the average app rating, and number of installs for each country\n",
    "grouped_data = df.groupby('Android Ver').mean()[['Rating', 'Installs']]\n",
    "\n",
    "# Sort the data by average rating in descending order\n",
    "grouped_data = grouped_data.sort_values(by='Rating', ascending=False)\n",
    "\n",
    "# Print the top 10 countries with the highest average app rating\n",
    "print('Top 10 Countries by Average App Rating:\\n', grouped_data.head(10))\n",
    "print('____________________________________________________________________________________')\n",
    "\n",
    "# Calculate the correlation between app rating, number of reviews, and number of installs\n",
    "corr_matrix = df[['Rating', 'Reviews', 'Installs']].corr()\n",
    "print('Correlation Matrix:\\n', corr_matrix)"
   ]
  },
  {
   "cell_type": "markdown",
   "metadata": {},
   "source": [
    "#### How can app developers leverage the insights gained from the data to optimize their app performance and reach a wider audience?"
   ]
  },
  {
   "cell_type": "code",
   "execution_count": 80,
   "metadata": {},
   "outputs": [
    {
     "data": {
      "image/png": "[encoded data removed]",
      "text/plain": [
       "<Figure size 720x576 with 2 Axes>"
      ]
     },
     "metadata": {
      "needs_background": "light"
     },
     "output_type": "display_data"
    }
   ],
   "source": [
    "# Identify the key factors that contribute to the success of an app, such as app size, content rating, price, and user engagement\n",
    "key_factors = ['Size', 'Content Rating', 'Price', 'Installs', 'Rating', 'Reviews']\n",
    "\n",
    "# Calculate the correlation between the key factors and app popularity (measured by number of installs)\n",
    "corr_matrix = df[key_factors + ['Installs']].corr()\n",
    "\n",
    "# Visualize the correlation matrix using a heatmap\n",
    "import seaborn as sns\n",
    "import matplotlib.pyplot as plt\n",
    "plt.figure(figsize=(10,8))\n",
    "sns.heatmap(corr_matrix, annot=True, cmap='YlGnBu')\n",
    "plt.title('Correlation Matrix for Key Factors and App Popularity', fontsize=16)\n",
    "plt.show()\n",
    "\n",
    "# Use this information to optimize the app's performance and reach a wider audience\n",
    "# For example, if the correlation matrix shows that apps with a smaller size, lower price, and higher rating tend to have higher user engagement and retention rates, app developers can focus on optimizing their app's size and pricing to attract more users and increase user satisfaction. Similarly, if the data shows that apps with a higher content rating tend to have higher user ratings and reviews, app developers can focus on improving the content and quality of their app to improve its overall performance and success on the platform.\n",
    "\n",
    "# App developers can also use the data to identify the most popular app categories and genres and tailor their app to meet the specific needs and preferences of their target audience. By understanding the user behavior and preferences in different regions and countries, app developers can optimize their app's localization and marketing strategies to reach a wider audience and increase the app's visibility and popularity on the platform.\n",
    "\n"
   ]
  },
  {
   "cell_type": "markdown",
   "metadata": {},
   "source": [
    "####  What are the implications of the findings for the overall mobile app industry and its future prospects?"
   ]
  },
  {
   "cell_type": "code",
   "execution_count": 81,
   "metadata": {},
   "outputs": [],
   "source": [
    "# Analyze the trends and patterns in the data to identify the implications for the overall mobile app industry and its future prospec\n",
    "# Identify the overall trends in the number of app downloads and revenue generated over time\n",
    "df['Last Updated'] = pd.to_datetime(df['Last Updated'])\n",
    "df['Year'] = df['Last Updated'].dt.year\n",
    "downloads_by_year = df.groupby('Year')['Installs'].sum()\n",
    "revenue_by_year = df.groupby('Year')['Revenue'].sum()\n"
   ]
  },
  {
   "cell_type": "code",
   "execution_count": 82,
   "metadata": {},
   "outputs": [
    {
     "data": {
      "image/png": "[encoded data removed]",
      "text/plain": [
       "<Figure size 432x288 with 1 Axes>"
      ]
     },
     "metadata": {
      "needs_background": "light"
     },
     "output_type": "display_data"
    }
   ],
   "source": [
    "plt.plot(downloads_by_year, label='Downloads')\n",
    "plt.plot(revenue_by_year, label='Revenue')\n",
    "plt.xlabel('Year')\n",
    "plt.ylabel('Number of Downloads/Revenue Generated')\n",
    "plt.title('Trends in App Downloads and Revenue')\n",
    "plt.legend()\n",
    "plt.ylim(0, 1600000000)  # Set y-axis limit\n",
    "plt.show()\n"
   ]
  },
  {
   "cell_type": "code",
   "execution_count": 83,
   "metadata": {},
   "outputs": [
    {
     "data": {
      "image/png": "[encoded data removed]",
      "text/plain": [
       "<Figure size 432x288 with 1 Axes>"
      ]
     },
     "metadata": {
      "needs_background": "light"
     },
     "output_type": "display_data"
    }
   ],
   "source": [
    "\n",
    "# Analyze the trends in app categories and genres to identify the most popular and profitable ones\n",
    "category_downloads = df.groupby('Category')['Installs'].sum()\n",
    "category_revenue = df.groupby('Category')['Revenue'].sum()\n",
    "# Visualize the trends in a bar chart\n",
    "fig, ax = plt.subplots()\n",
    "ax.bar(category_downloads.index, category_downloads, label='Downloads')\n",
    "ax.bar(category_revenue.index, category_revenue, label='Revenue')\n",
    "ax.set_xlabel('Category')\n",
    "ax.set_ylabel('Number of Downloads/Revenue Generated')\n",
    "ax.set_title('App Categories by Downloads and Revenue')\n",
    "ax.legend()\n",
    "plt.xticks(rotation=90)\n",
    "plt.show()\n"
   ]
  },
  {
   "cell_type": "code",
   "execution_count": 84,
   "metadata": {},
   "outputs": [
    {
     "data": {
      "image/png": "[encoded data removed]",
      "text/plain": [
       "<Figure size 432x288 with 1 Axes>"
      ]
     },
     "metadata": {
      "needs_background": "light"
     },
     "output_type": "display_data"
    }
   ],
   "source": [
    "# Analyze the trends in user ratings and reviews to identify the factors that contribute to the success of an app\n",
    "rating_reviews = df[['Rating', 'Reviews']]\n",
    "rating_reviews = rating_reviews.dropna()\n",
    "rating_reviews = rating_reviews.astype(float)\n",
    "rating_reviews = rating_reviews[(rating_reviews['Rating'] >= 1) & (rating_reviews['Rating'] <= 5)]\n",
    "\n",
    "# Visualize the relationship between ratings and reviews in a scatter plot\n",
    "fig, ax = plt.subplots()\n",
    "ax.scatter(rating_reviews['Rating'], rating_reviews['Reviews'])\n",
    "ax.set_xlabel('Rating')\n",
    "ax.set_ylabel('Number of Reviews')\n",
    "ax.set_title('Relationship between Ratings and Reviews')\n",
    "plt.show()"
   ]
  },
  {
   "cell_type": "code",
   "execution_count": 85,
   "metadata": {},
   "outputs": [
    {
     "data": {
      "image/png": "[encoded data removed]",
      "text/plain": [
       "<Figure size 432x288 with 1 Axes>"
      ]
     },
     "metadata": {
      "needs_background": "light"
     },
     "output_type": "display_data"
    }
   ],
   "source": [
    "# Analyze the trends in app pricing to identify the pricing strategies that are most effective in generating revenue and attracting users\n",
    "pricing_downloads = df.groupby('Price')['Installs'].sum()\n",
    "pricing_revenue = df.groupby('Price')['Revenue'].sum()\n",
    "\n",
    "# Visualize the trends in a line chart\n",
    "fig, ax = plt.subplots()\n",
    "ax.plot(pricing_downloads, label='Downloads')\n",
    "ax.plot(pricing_revenue, label='Revenue')\n",
    "ax.set_xlabel('Price')\n",
    "ax.set_ylabel('Number of Downloads/Revenue Generated')\n",
    "ax.set_title('App Pricing by Downloads and Revenue')\n",
    "ax.legend()\n",
    "plt.ylim(5, 160000000)  # Set y limit\n",
    "plt.xlim(0,450) # set x limit\n",
    "plt.show()\n"
   ]
  },
  {
   "cell_type": "markdown",
   "metadata": {},
   "source": [
    "### Final conclution:"
   ]
  },
  {
   "cell_type": "markdown",
   "metadata": {},
   "source": [
    "1. The most popular app category on the Google Play Store is Family, followed by Game, Tools, and Productivity. This suggests that apps designed for families and entertainment purposes are the most sought after on the platform.\n",
    "\n",
    "2. App ratings and reviews have a small positive correlation with an app's popularity and success on the platform. However, it is important to note that there are many other factors that contribute to an app's success, such as app size, content rating, price, and user engagement.\n",
    "\n",
    "3. The key factors that contribute to an app's success include category, app size, rating, price, and user engagement. Communication, social, and video player apps have the highest average number of installs, while finance, lifestyle, and medical apps have the highest average app price.\n",
    "\n",
    "4. finance, medical, and business categories have the highest average app price.\n",
    "\n",
    "5. App pricing on the platform is generally low, with most apps being free or priced at less than $5. Lower-priced apps tend to generate more downloads and revenue than higher-priced apps.\n",
    "\n",
    "6. The most common features and functionalities of successful apps vary by category. For example, art and design apps tend to have high ratings and feature photo editing tools, while sports apps often include live score updates and fantasy sports features.\n",
    "7.  Positive Growth: The app experienced a consistent increase in downloads from 2012 to 2018, indicating a growing popularity and demand among users in the Google Play Store. This positive trend suggests that the app has been able to attract and retain users over time.\n",
    "\n",
    "8. Revenue Upsurge: Although downloads increased steadily over the years, the revenue surge occurred specifically from 2017 to 2018. This suggests a potential time lag between user acquisition and monetization, where the app started generating more revenue per user or implemented effective monetization strategies during this period.\n",
    "\n",
    "Overall, these insights suggest that the Google Play Store is dominated by apps designed for families and entertainment purposes, with a focus on affordability and user engagement. However, there is significant variation in app success and pricing across categories, indicating that developers should carefully consider their target audience and app features when developing and marketing their apps.\n"
   ]
  }
 ],
 "metadata": {
  "kernelspec": {
   "display_name": "Python 3 (ipykernel)",
   "language": "python",
   "name": "python3"
  },
  "language_info": {
   "codemirror_mode": {
    "name": "ipython",
    "version": 3
   },
   "file_extension": ".py",
   "mimetype": "text/x-python",
   "name": "python",
   "nbconvert_exporter": "python",
   "pygments_lexer": "ipython3",
   "version": "3.9.12"
  }
 },
 "nbformat": 4,
 "nbformat_minor": 4
}
